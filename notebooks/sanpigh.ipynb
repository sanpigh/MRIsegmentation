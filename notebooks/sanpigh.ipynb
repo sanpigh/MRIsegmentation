{
 "cells": [
  {
   "cell_type": "markdown",
   "id": "c5bb9575",
   "metadata": {},
   "source": [
    "# Tests"
   ]
  },
  {
   "cell_type": "markdown",
   "id": "16e4e81d",
   "metadata": {},
   "source": [
    "### Check the number of files with or without mask suffix"
   ]
  },
  {
   "cell_type": "code",
   "execution_count": 4,
   "id": "2680fd9a",
   "metadata": {},
   "outputs": [
    {
     "name": "stdout",
     "output_type": "stream",
     "text": [
      "/home/santiago/code/sanpigh/MRIsegmentation/notebooks\n",
      "3929\n",
      "3931\n"
     ]
    }
   ],
   "source": [
    "!pwd\n",
    "!find ../raw_data/kaggle_3m -type f -print | grep mask | wc -l    # files with mask suffix\n",
    "!find ../raw_data/kaggle_3m -type f -print | grep -v mask | wc -l # files wout mask suffix"
   ]
  },
  {
   "cell_type": "code",
   "execution_count": 21,
   "id": "e960dcb7",
   "metadata": {},
   "outputs": [
    {
     "ename": "ModuleNotFoundError",
     "evalue": "No module named 'tensorflow'",
     "output_type": "error",
     "traceback": [
      "\u001b[0;31m---------------------------------------------------------------------------\u001b[0m",
      "\u001b[0;31mModuleNotFoundError\u001b[0m                       Traceback (most recent call last)",
      "\u001b[0;32m<ipython-input-21-2ef8aa3e8651>\u001b[0m in \u001b[0;36m<module>\u001b[0;34m\u001b[0m\n\u001b[1;32m      1\u001b[0m \u001b[0;32mfrom\u001b[0m \u001b[0mos\u001b[0m \u001b[0;32mimport\u001b[0m \u001b[0mwalk\u001b[0m \u001b[0;31m# to navigate along directories\u001b[0m\u001b[0;34m\u001b[0m\u001b[0;34m\u001b[0m\u001b[0m\n\u001b[1;32m      2\u001b[0m \u001b[0;31m#from os.path import isfile, join\u001b[0m\u001b[0;34m\u001b[0m\u001b[0;34m\u001b[0m\u001b[0;34m\u001b[0m\u001b[0m\n\u001b[0;32m----> 3\u001b[0;31m \u001b[0;32mimport\u001b[0m \u001b[0mtensorflow\u001b[0m \u001b[0;32mas\u001b[0m \u001b[0mtf\u001b[0m\u001b[0;34m\u001b[0m\u001b[0;34m\u001b[0m\u001b[0m\n\u001b[0m",
      "\u001b[0;31mModuleNotFoundError\u001b[0m: No module named 'tensorflow'"
     ]
    }
   ],
   "source": [
    "from os import walk # to navigate along directories\n",
    "#from os.path import isfile, join\n",
    "import tensorflow as tf\n"
   ]
  },
  {
   "cell_type": "code",
   "execution_count": 16,
   "id": "24d42bfb",
   "metadata": {
    "scrolled": true,
    "tags": []
   },
   "outputs": [
    {
     "name": "stdout",
     "output_type": "stream",
     "text": [
      "TCGA_DU_5874_19950510\n",
      "TCGA_HT_7608_19940304\n",
      "TCGA_HT_8114_19981030\n",
      "TCGA_HT_A5RC_19990831\n",
      "TCGA_FG_7634_20000128\n",
      "TCGA_HT_8105_19980826\n",
      "TCGA_HT_A61B_19991127\n",
      "TCGA_CS_4944_20010208\n",
      "TCGA_DU_7300_19910814\n",
      "TCGA_DU_7306_19930512\n",
      "TCGA_HT_A616_19991226\n",
      "TCGA_HT_8113_19930809\n",
      "TCGA_DU_7301_19911112\n",
      "TCGA_HT_7874_19950902\n",
      "TCGA_DU_8164_19970111\n",
      "TCGA_HT_7860_19960513\n",
      "TCGA_CS_5396_20010302\n",
      "TCGA_CS_5393_19990606\n",
      "TCGA_HT_8107_19980708\n",
      "TCGA_EZ_7264_20010816\n",
      "TCGA_DU_5851_19950428\n",
      "TCGA_HT_8111_19980330\n",
      "TCGA_HT_7879_19981009\n",
      "TCGA_HT_A61A_20000127\n",
      "TCGA_HT_7686_19950629\n",
      "TCGA_CS_6668_20011025\n",
      "TCGA_DU_A5TP_19970614\n",
      "TCGA_DU_A5TR_19970726\n",
      "TCGA_DU_7010_19860307\n",
      "TCGA_HT_7690_19960312\n",
      "TCGA_HT_7616_19940813\n",
      "TCGA_HT_7881_19981015\n",
      "TCGA_CS_4942_19970222\n",
      "TCGA_HT_7605_19950916\n",
      "TCGA_FG_7643_20021104\n",
      "TCGA_HT_8563_19981209\n",
      "TCGA_DU_7018_19911220\n",
      "TCGA_HT_7884_19980913\n",
      "TCGA_DU_6399_19830416\n",
      "TCGA_HT_7602_19951103\n",
      "TCGA_DU_A5TW_19980228\n",
      "TCGA_DU_5871_19941206\n",
      "TCGA_DU_5852_19950709\n",
      "TCGA_FG_6692_20020606\n",
      "TCGA_DU_8167_19970402\n",
      "TCGA_HT_7475_19970918\n",
      "TCGA_DU_6408_19860521\n",
      "TCGA_DU_7013_19860523\n",
      "TCGA_DU_6400_19830518\n",
      "TCGA_HT_7694_19950404\n",
      "TCGA_CS_6665_20010817\n",
      "TCGA_FG_6691_20020405\n",
      "TCGA_HT_8106_19970727\n",
      "TCGA_DU_8165_19970205\n",
      "TCGA_HT_8018_19970411\n",
      "TCGA_CS_6186_20000601\n",
      "TCGA_DU_5872_19950223\n",
      "TCGA_DU_6401_19831001\n",
      "TCGA_CS_6290_20000917\n",
      "TCGA_FG_6689_20020326\n",
      "TCGA_FG_8189_20030516\n",
      "TCGA_FG_6688_20020215\n",
      "TCGA_FG_A4MU_20030903\n",
      "TCGA_CS_6669_20020102\n",
      "TCGA_FG_5964_20010511\n",
      "TCGA_DU_A5TY_19970709\n",
      "TCGA_HT_7856_19950831\n",
      "TCGA_DU_7014_19860618\n",
      "TCGA_HT_7680_19970202\n",
      "TCGA_HT_7855_19951020\n",
      "TCGA_CS_5395_19981004\n",
      "TCGA_DU_6405_19851005\n",
      "TCGA_DU_7019_19940908\n",
      "TCGA_HT_7882_19970125\n",
      "TCGA_DU_7008_19830723\n",
      "TCGA_FG_A60K_20040224\n",
      "TCGA_DU_A5TU_19980312\n",
      "TCGA_DU_8168_19970503\n",
      "TCGA_DU_7294_19890104\n",
      "TCGA_FG_6690_20020226\n",
      "TCGA_DU_A5TT_19980318\n",
      "TCGA_CS_4943_20000902\n",
      "TCGA_FG_7637_20000922\n",
      "TCGA_HT_7693_19950520\n",
      "TCGA_DU_8162_19961029\n",
      "TCGA_DU_8166_19970322\n",
      "TCGA_DU_6404_19850629\n",
      "TCGA_HT_7877_19980917\n",
      "TCGA_DU_5854_19951104\n",
      "TCGA_CS_6667_20011105\n",
      "TCGA_DU_5849_19950405\n",
      "TCGA_CS_6188_20010812\n",
      "TCGA_DU_8163_19961119\n",
      "TCGA_DU_5853_19950823\n",
      "TCGA_HT_7692_19960724\n",
      "TCGA_DU_7309_19960831\n",
      "TCGA_DU_5855_19951217\n",
      "TCGA_CS_4941_19960909\n",
      "TCGA_DU_A5TS_19970726\n",
      "TCGA_CS_6666_20011109\n",
      "TCGA_DU_7304_19930325\n",
      "TCGA_DU_7299_19910417\n",
      "TCGA_FG_A4MT_20020212\n",
      "TCGA_DU_7302_19911203\n",
      "TCGA_FG_5962_20000626\n",
      "TCGA_DU_6407_19860514\n",
      "TCGA_DU_7298_19910324\n",
      "TCGA_CS_5397_20010315\n",
      "TCGA_HT_7473_19970826\n",
      "TCGA_HT_7684_19950816\n"
     ]
    }
   ],
   "source": [
    "path = '../raw_data/kaggle_3m'\n",
    "df = pd.DataFrame\n",
    "for root, subdirs, files in walk(path):\n",
    "    if root != path:\n",
    "        \n",
    "        #print(root[-21], type(root), subdirs, files)\n",
    "        print(root[-21:])\n",
    "#onlyfiles = [f for f in listdir(mypath) if isfile(join(mypath, f))]"
   ]
  },
  {
   "cell_type": "code",
   "execution_count": 17,
   "id": "06d4de63",
   "metadata": {},
   "outputs": [
    {
     "ename": "NameError",
     "evalue": "name 'tf' is not defined",
     "output_type": "error",
     "traceback": [
      "\u001b[0;31m---------------------------------------------------------------------------\u001b[0m",
      "\u001b[0;31mNameError\u001b[0m                                 Traceback (most recent call last)",
      "\u001b[0;32m<ipython-input-17-659b71ab71e1>\u001b[0m in \u001b[0;36m<module>\u001b[0;34m\u001b[0m\n\u001b[0;32m----> 1\u001b[0;31m \u001b[0mprint\u001b[0m\u001b[0;34m(\u001b[0m\u001b[0;34m\"Num GPUs Available: \"\u001b[0m\u001b[0;34m,\u001b[0m \u001b[0mlen\u001b[0m\u001b[0;34m(\u001b[0m\u001b[0mtf\u001b[0m\u001b[0;34m.\u001b[0m\u001b[0mconfig\u001b[0m\u001b[0;34m.\u001b[0m\u001b[0mlist_physical_devices\u001b[0m\u001b[0;34m(\u001b[0m\u001b[0;34m'GPU'\u001b[0m\u001b[0;34m)\u001b[0m\u001b[0;34m)\u001b[0m\u001b[0;34m)\u001b[0m\u001b[0;34m\u001b[0m\u001b[0;34m\u001b[0m\u001b[0m\n\u001b[0m",
      "\u001b[0;31mNameError\u001b[0m: name 'tf' is not defined"
     ]
    }
   ],
   "source": [
    "print(\"Num GPUs Available: \", len(tf.config.list_physical_devices('GPU')))"
   ]
  },
  {
   "cell_type": "code",
   "execution_count": null,
   "id": "b95480d2",
   "metadata": {},
   "outputs": [],
   "source": []
  }
 ],
 "metadata": {
  "kernelspec": {
   "display_name": "Python 3",
   "language": "python",
   "name": "python3"
  },
  "language_info": {
   "codemirror_mode": {
    "name": "ipython",
    "version": 3
   },
   "file_extension": ".py",
   "mimetype": "text/x-python",
   "name": "python",
   "nbconvert_exporter": "python",
   "pygments_lexer": "ipython3",
   "version": "3.8.6"
  }
 },
 "nbformat": 4,
 "nbformat_minor": 5
}
