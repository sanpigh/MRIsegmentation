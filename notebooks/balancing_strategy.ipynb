{
 "cells": [
  {
   "cell_type": "code",
   "execution_count": 1,
   "id": "d77ea764-259e-4985-874c-39cc4110875e",
   "metadata": {},
   "outputs": [
    {
     "name": "stdout",
     "output_type": "stream",
     "text": [
      "tensorflow==2.5.0\n",
      "tensorflow-addons==0.13.0\n",
      "tensorflow-estimator==2.5.0\n",
      "tensorflow-io==0.19.0\n",
      "tensorflow-io-gcs-filesystem==0.19.0\n"
     ]
    }
   ],
   "source": [
    "!pip freeze | grep tensorflow"
   ]
  },
  {
   "cell_type": "code",
   "execution_count": 2,
   "id": "b5117d27-9b52-48f8-8371-cb5d97042f52",
   "metadata": {},
   "outputs": [],
   "source": [
    "%load_ext autoreload\n",
    "%autoreload 2"
   ]
  },
  {
   "cell_type": "code",
   "execution_count": 3,
   "id": "8ee2e67a-815f-42b5-904a-996f22e2aac1",
   "metadata": {
    "scrolled": true,
    "tags": []
   },
   "outputs": [
    {
     "name": "stdout",
     "output_type": "stream",
     "text": [
      "Requirement already satisfied: ipython-autotime in /home/alvarocg/.pyenv/versions/3.8.6/envs/MRIsegmentation/lib/python3.8/site-packages (0.3.1)\n",
      "Requirement already satisfied: ipython in /home/alvarocg/.pyenv/versions/3.8.6/envs/MRIsegmentation/lib/python3.8/site-packages (from ipython-autotime) (7.25.0)\n",
      "Requirement already satisfied: matplotlib-inline in /home/alvarocg/.pyenv/versions/3.8.6/envs/MRIsegmentation/lib/python3.8/site-packages (from ipython->ipython-autotime) (0.1.2)\n",
      "Requirement already satisfied: jedi>=0.16 in /home/alvarocg/.pyenv/versions/3.8.6/envs/MRIsegmentation/lib/python3.8/site-packages (from ipython->ipython-autotime) (0.18.0)\n",
      "Requirement already satisfied: setuptools>=18.5 in /home/alvarocg/.pyenv/versions/3.8.6/envs/MRIsegmentation/lib/python3.8/site-packages (from ipython->ipython-autotime) (49.2.1)\n",
      "Requirement already satisfied: pygments in /home/alvarocg/.pyenv/versions/3.8.6/envs/MRIsegmentation/lib/python3.8/site-packages (from ipython->ipython-autotime) (2.9.0)\n",
      "Requirement already satisfied: prompt-toolkit!=3.0.0,!=3.0.1,<3.1.0,>=2.0.0 in /home/alvarocg/.pyenv/versions/3.8.6/envs/MRIsegmentation/lib/python3.8/site-packages (from ipython->ipython-autotime) (3.0.19)\n",
      "Requirement already satisfied: decorator in /home/alvarocg/.pyenv/versions/3.8.6/envs/MRIsegmentation/lib/python3.8/site-packages (from ipython->ipython-autotime) (4.4.2)\n",
      "Requirement already satisfied: pickleshare in /home/alvarocg/.pyenv/versions/3.8.6/envs/MRIsegmentation/lib/python3.8/site-packages (from ipython->ipython-autotime) (0.7.5)\n",
      "Requirement already satisfied: backcall in /home/alvarocg/.pyenv/versions/3.8.6/envs/MRIsegmentation/lib/python3.8/site-packages (from ipython->ipython-autotime) (0.2.0)\n",
      "Requirement already satisfied: pexpect>4.3 in /home/alvarocg/.pyenv/versions/3.8.6/envs/MRIsegmentation/lib/python3.8/site-packages (from ipython->ipython-autotime) (4.8.0)\n",
      "Requirement already satisfied: traitlets>=4.2 in /home/alvarocg/.pyenv/versions/3.8.6/envs/MRIsegmentation/lib/python3.8/site-packages (from ipython->ipython-autotime) (5.0.5)\n",
      "Requirement already satisfied: parso<0.9.0,>=0.8.0 in /home/alvarocg/.pyenv/versions/3.8.6/envs/MRIsegmentation/lib/python3.8/site-packages (from jedi>=0.16->ipython->ipython-autotime) (0.8.2)\n",
      "Requirement already satisfied: ptyprocess>=0.5 in /home/alvarocg/.pyenv/versions/3.8.6/envs/MRIsegmentation/lib/python3.8/site-packages (from pexpect>4.3->ipython->ipython-autotime) (0.7.0)\n",
      "Requirement already satisfied: wcwidth in /home/alvarocg/.pyenv/versions/3.8.6/envs/MRIsegmentation/lib/python3.8/site-packages (from prompt-toolkit!=3.0.0,!=3.0.1,<3.1.0,>=2.0.0->ipython->ipython-autotime) (0.2.5)\n",
      "Requirement already satisfied: ipython-genutils in /home/alvarocg/.pyenv/versions/3.8.6/envs/MRIsegmentation/lib/python3.8/site-packages (from traitlets>=4.2->ipython->ipython-autotime) (0.2.0)\n"
     ]
    }
   ],
   "source": [
    "!pip install ipython-autotime"
   ]
  },
  {
   "cell_type": "code",
   "execution_count": 4,
   "id": "e72c5d2f-d0d7-4917-9db2-d42526f2feed",
   "metadata": {},
   "outputs": [
    {
     "name": "stdout",
     "output_type": "stream",
     "text": [
      "time: 9.42 ms (started: 2021-07-06 11:54:27 +02:00)\n"
     ]
    }
   ],
   "source": [
    "%load_ext autotime\n",
    "%load_ext tensorboard"
   ]
  },
  {
   "cell_type": "code",
   "execution_count": 5,
   "id": "42ccc849-5a1f-4dd9-a8bc-86d0d4c40bfa",
   "metadata": {
    "scrolled": true,
    "tags": []
   },
   "outputs": [
    {
     "name": "stdout",
     "output_type": "stream",
     "text": [
      "Collecting git+https://github.com/sanpigh/MRIsegmentation.git@cleanup\n",
      "  Cloning https://github.com/sanpigh/MRIsegmentation.git (to revision cleanup) to /tmp/pip-req-build-iw3_yhhe\n",
      "  Running command git clone -q https://github.com/sanpigh/MRIsegmentation.git /tmp/pip-req-build-iw3_yhhe\n",
      "  Running command git checkout -b cleanup --track origin/cleanup\n",
      "  Switched to a new branch 'cleanup'\n",
      "  Branch 'cleanup' set up to track remote branch 'cleanup' from 'origin'.\n",
      "Requirement already satisfied: pip>=9 in /home/alvarocg/.pyenv/versions/3.8.6/envs/MRIsegmentation/lib/python3.8/site-packages (from MRIsegmentation==1.0) (21.1.3)\n",
      "Requirement already satisfied: setuptools>=26 in /home/alvarocg/.pyenv/versions/3.8.6/envs/MRIsegmentation/lib/python3.8/site-packages (from MRIsegmentation==1.0) (49.2.1)\n",
      "Requirement already satisfied: twine in /home/alvarocg/.pyenv/versions/3.8.6/envs/MRIsegmentation/lib/python3.8/site-packages (from MRIsegmentation==1.0) (3.4.1)\n",
      "Requirement already satisfied: wheel>=0.29 in /home/alvarocg/.pyenv/versions/3.8.6/envs/MRIsegmentation/lib/python3.8/site-packages (from MRIsegmentation==1.0) (0.36.2)\n",
      "Requirement already satisfied: numpy in /home/alvarocg/.pyenv/versions/3.8.6/envs/MRIsegmentation/lib/python3.8/site-packages (from MRIsegmentation==1.0) (1.19.5)\n",
      "Requirement already satisfied: pandas in /home/alvarocg/.pyenv/versions/3.8.6/envs/MRIsegmentation/lib/python3.8/site-packages (from MRIsegmentation==1.0) (1.2.5)\n",
      "Requirement already satisfied: scikit-learn in /home/alvarocg/.pyenv/versions/3.8.6/envs/MRIsegmentation/lib/python3.8/site-packages (from MRIsegmentation==1.0) (0.24.2)\n",
      "Requirement already satisfied: tensorflow in /home/alvarocg/.pyenv/versions/3.8.6/envs/MRIsegmentation/lib/python3.8/site-packages (from MRIsegmentation==1.0) (2.5.0)\n",
      "Requirement already satisfied: tensorflow-io in /home/alvarocg/.pyenv/versions/3.8.6/envs/MRIsegmentation/lib/python3.8/site-packages (from MRIsegmentation==1.0) (0.19.0)\n",
      "Requirement already satisfied: tensorflow-addons in /home/alvarocg/.pyenv/versions/3.8.6/envs/MRIsegmentation/lib/python3.8/site-packages (from MRIsegmentation==1.0) (0.13.0)\n",
      "Requirement already satisfied: black in /home/alvarocg/.pyenv/versions/3.8.6/envs/MRIsegmentation/lib/python3.8/site-packages (from MRIsegmentation==1.0) (21.6b0)\n",
      "Requirement already satisfied: coverage in /home/alvarocg/.pyenv/versions/3.8.6/envs/MRIsegmentation/lib/python3.8/site-packages (from MRIsegmentation==1.0) (5.5)\n",
      "Requirement already satisfied: flake8 in /home/alvarocg/.pyenv/versions/3.8.6/envs/MRIsegmentation/lib/python3.8/site-packages (from MRIsegmentation==1.0) (3.9.2)\n",
      "Requirement already satisfied: pytest in /home/alvarocg/.pyenv/versions/3.8.6/envs/MRIsegmentation/lib/python3.8/site-packages (from MRIsegmentation==1.0) (6.2.4)\n",
      "Requirement already satisfied: yapf in /home/alvarocg/.pyenv/versions/3.8.6/envs/MRIsegmentation/lib/python3.8/site-packages (from MRIsegmentation==1.0) (0.31.0)\n",
      "Requirement already satisfied: gcsfs in /home/alvarocg/.pyenv/versions/3.8.6/envs/MRIsegmentation/lib/python3.8/site-packages (from MRIsegmentation==1.0) (2021.6.1)\n",
      "Requirement already satisfied: google-cloud-storage in /home/alvarocg/.pyenv/versions/3.8.6/envs/MRIsegmentation/lib/python3.8/site-packages (from MRIsegmentation==1.0) (1.39.0)\n",
      "Requirement already satisfied: mlflow in /home/alvarocg/.pyenv/versions/3.8.6/envs/MRIsegmentation/lib/python3.8/site-packages (from MRIsegmentation==1.0) (1.18.0)\n",
      "Requirement already satisfied: s3fs in /home/alvarocg/.pyenv/versions/3.8.6/envs/MRIsegmentation/lib/python3.8/site-packages (from MRIsegmentation==1.0) (2021.6.1)\n",
      "Requirement already satisfied: six>=1.14 in /home/alvarocg/.pyenv/versions/3.8.6/envs/MRIsegmentation/lib/python3.8/site-packages (from MRIsegmentation==1.0) (1.15.0)\n",
      "Requirement already satisfied: joblib in /home/alvarocg/.pyenv/versions/3.8.6/envs/MRIsegmentation/lib/python3.8/site-packages (from MRIsegmentation==1.0) (1.0.1)\n",
      "Requirement already satisfied: memoized-property in /home/alvarocg/.pyenv/versions/3.8.6/envs/MRIsegmentation/lib/python3.8/site-packages (from MRIsegmentation==1.0) (1.0.3)\n",
      "Requirement already satisfied: termcolor in /home/alvarocg/.pyenv/versions/3.8.6/envs/MRIsegmentation/lib/python3.8/site-packages (from MRIsegmentation==1.0) (1.1.0)\n",
      "Requirement already satisfied: appdirs in /home/alvarocg/.pyenv/versions/3.8.6/envs/MRIsegmentation/lib/python3.8/site-packages (from black->MRIsegmentation==1.0) (1.4.4)\n",
      "Requirement already satisfied: mypy-extensions>=0.4.3 in /home/alvarocg/.pyenv/versions/3.8.6/envs/MRIsegmentation/lib/python3.8/site-packages (from black->MRIsegmentation==1.0) (0.4.3)\n",
      "Requirement already satisfied: toml>=0.10.1 in /home/alvarocg/.pyenv/versions/3.8.6/envs/MRIsegmentation/lib/python3.8/site-packages (from black->MRIsegmentation==1.0) (0.10.2)\n",
      "Requirement already satisfied: click>=7.1.2 in /home/alvarocg/.pyenv/versions/3.8.6/envs/MRIsegmentation/lib/python3.8/site-packages (from black->MRIsegmentation==1.0) (8.0.1)\n",
      "Requirement already satisfied: pathspec<1,>=0.8.1 in /home/alvarocg/.pyenv/versions/3.8.6/envs/MRIsegmentation/lib/python3.8/site-packages (from black->MRIsegmentation==1.0) (0.8.1)\n",
      "Requirement already satisfied: regex>=2020.1.8 in /home/alvarocg/.pyenv/versions/3.8.6/envs/MRIsegmentation/lib/python3.8/site-packages (from black->MRIsegmentation==1.0) (2021.4.4)\n",
      "Requirement already satisfied: pycodestyle<2.8.0,>=2.7.0 in /home/alvarocg/.pyenv/versions/3.8.6/envs/MRIsegmentation/lib/python3.8/site-packages (from flake8->MRIsegmentation==1.0) (2.7.0)\n",
      "Requirement already satisfied: mccabe<0.7.0,>=0.6.0 in /home/alvarocg/.pyenv/versions/3.8.6/envs/MRIsegmentation/lib/python3.8/site-packages (from flake8->MRIsegmentation==1.0) (0.6.1)\n",
      "Requirement already satisfied: pyflakes<2.4.0,>=2.3.0 in /home/alvarocg/.pyenv/versions/3.8.6/envs/MRIsegmentation/lib/python3.8/site-packages (from flake8->MRIsegmentation==1.0) (2.3.1)\n",
      "Requirement already satisfied: google-auth-oauthlib in /home/alvarocg/.pyenv/versions/3.8.6/envs/MRIsegmentation/lib/python3.8/site-packages (from gcsfs->MRIsegmentation==1.0) (0.4.4)\n",
      "Requirement already satisfied: fsspec==2021.06.1 in /home/alvarocg/.pyenv/versions/3.8.6/envs/MRIsegmentation/lib/python3.8/site-packages (from gcsfs->MRIsegmentation==1.0) (2021.6.1)\n",
      "Requirement already satisfied: google-auth>=1.2 in /home/alvarocg/.pyenv/versions/3.8.6/envs/MRIsegmentation/lib/python3.8/site-packages (from gcsfs->MRIsegmentation==1.0) (1.32.0)\n",
      "Requirement already satisfied: aiohttp in /home/alvarocg/.pyenv/versions/3.8.6/envs/MRIsegmentation/lib/python3.8/site-packages (from gcsfs->MRIsegmentation==1.0) (3.7.4.post0)\n",
      "Requirement already satisfied: requests in /home/alvarocg/.pyenv/versions/3.8.6/envs/MRIsegmentation/lib/python3.8/site-packages (from gcsfs->MRIsegmentation==1.0) (2.25.1)\n",
      "Requirement already satisfied: decorator in /home/alvarocg/.pyenv/versions/3.8.6/envs/MRIsegmentation/lib/python3.8/site-packages (from gcsfs->MRIsegmentation==1.0) (4.4.2)\n",
      "Requirement already satisfied: cachetools<5.0,>=2.0.0 in /home/alvarocg/.pyenv/versions/3.8.6/envs/MRIsegmentation/lib/python3.8/site-packages (from google-auth>=1.2->gcsfs->MRIsegmentation==1.0) (4.2.2)\n",
      "Requirement already satisfied: pyasn1-modules>=0.2.1 in /home/alvarocg/.pyenv/versions/3.8.6/envs/MRIsegmentation/lib/python3.8/site-packages (from google-auth>=1.2->gcsfs->MRIsegmentation==1.0) (0.2.8)\n",
      "Requirement already satisfied: rsa<5,>=3.1.4 in /home/alvarocg/.pyenv/versions/3.8.6/envs/MRIsegmentation/lib/python3.8/site-packages (from google-auth>=1.2->gcsfs->MRIsegmentation==1.0) (4.7.2)\n",
      "Requirement already satisfied: pyasn1<0.5.0,>=0.4.6 in /home/alvarocg/.pyenv/versions/3.8.6/envs/MRIsegmentation/lib/python3.8/site-packages (from pyasn1-modules>=0.2.1->google-auth>=1.2->gcsfs->MRIsegmentation==1.0) (0.4.8)\n",
      "Requirement already satisfied: typing-extensions>=3.6.5 in /home/alvarocg/.pyenv/versions/3.8.6/envs/MRIsegmentation/lib/python3.8/site-packages (from aiohttp->gcsfs->MRIsegmentation==1.0) (3.7.4.3)\n",
      "Requirement already satisfied: yarl<2.0,>=1.0 in /home/alvarocg/.pyenv/versions/3.8.6/envs/MRIsegmentation/lib/python3.8/site-packages (from aiohttp->gcsfs->MRIsegmentation==1.0) (1.6.3)\n",
      "Requirement already satisfied: attrs>=17.3.0 in /home/alvarocg/.pyenv/versions/3.8.6/envs/MRIsegmentation/lib/python3.8/site-packages (from aiohttp->gcsfs->MRIsegmentation==1.0) (21.2.0)\n",
      "Requirement already satisfied: async-timeout<4.0,>=3.0 in /home/alvarocg/.pyenv/versions/3.8.6/envs/MRIsegmentation/lib/python3.8/site-packages (from aiohttp->gcsfs->MRIsegmentation==1.0) (3.0.1)\n",
      "Requirement already satisfied: multidict<7.0,>=4.5 in /home/alvarocg/.pyenv/versions/3.8.6/envs/MRIsegmentation/lib/python3.8/site-packages (from aiohttp->gcsfs->MRIsegmentation==1.0) (5.1.0)\n",
      "Requirement already satisfied: chardet<5.0,>=2.0 in /home/alvarocg/.pyenv/versions/3.8.6/envs/MRIsegmentation/lib/python3.8/site-packages (from aiohttp->gcsfs->MRIsegmentation==1.0) (4.0.0)\n",
      "Requirement already satisfied: idna>=2.0 in /home/alvarocg/.pyenv/versions/3.8.6/envs/MRIsegmentation/lib/python3.8/site-packages (from yarl<2.0,>=1.0->aiohttp->gcsfs->MRIsegmentation==1.0) (2.10)\n",
      "Requirement already satisfied: requests-oauthlib>=0.7.0 in /home/alvarocg/.pyenv/versions/3.8.6/envs/MRIsegmentation/lib/python3.8/site-packages (from google-auth-oauthlib->gcsfs->MRIsegmentation==1.0) (1.3.0)\n",
      "Requirement already satisfied: oauthlib>=3.0.0 in /home/alvarocg/.pyenv/versions/3.8.6/envs/MRIsegmentation/lib/python3.8/site-packages (from requests-oauthlib>=0.7.0->google-auth-oauthlib->gcsfs->MRIsegmentation==1.0) (3.1.1)\n",
      "Requirement already satisfied: certifi>=2017.4.17 in /home/alvarocg/.pyenv/versions/3.8.6/envs/MRIsegmentation/lib/python3.8/site-packages (from requests->gcsfs->MRIsegmentation==1.0) (2021.5.30)\n",
      "Requirement already satisfied: urllib3<1.27,>=1.21.1 in /home/alvarocg/.pyenv/versions/3.8.6/envs/MRIsegmentation/lib/python3.8/site-packages (from requests->gcsfs->MRIsegmentation==1.0) (1.26.6)\n",
      "Requirement already satisfied: google-resumable-media<2.0dev,>=1.3.0 in /home/alvarocg/.pyenv/versions/3.8.6/envs/MRIsegmentation/lib/python3.8/site-packages (from google-cloud-storage->MRIsegmentation==1.0) (1.3.1)\n",
      "Requirement already satisfied: google-cloud-core<2.0dev,>=1.4.1 in /home/alvarocg/.pyenv/versions/3.8.6/envs/MRIsegmentation/lib/python3.8/site-packages (from google-cloud-storage->MRIsegmentation==1.0) (1.7.1)\n",
      "Requirement already satisfied: google-api-core<2.0.0dev,>=1.21.0 in /home/alvarocg/.pyenv/versions/3.8.6/envs/MRIsegmentation/lib/python3.8/site-packages (from google-cloud-core<2.0dev,>=1.4.1->google-cloud-storage->MRIsegmentation==1.0) (1.30.0)\n",
      "Requirement already satisfied: packaging>=14.3 in /home/alvarocg/.pyenv/versions/3.8.6/envs/MRIsegmentation/lib/python3.8/site-packages (from google-api-core<2.0.0dev,>=1.21.0->google-cloud-core<2.0dev,>=1.4.1->google-cloud-storage->MRIsegmentation==1.0) (20.9)\n",
      "Requirement already satisfied: pytz in /home/alvarocg/.pyenv/versions/3.8.6/envs/MRIsegmentation/lib/python3.8/site-packages (from google-api-core<2.0.0dev,>=1.21.0->google-cloud-core<2.0dev,>=1.4.1->google-cloud-storage->MRIsegmentation==1.0) (2021.1)\n",
      "Requirement already satisfied: googleapis-common-protos<2.0dev,>=1.6.0 in /home/alvarocg/.pyenv/versions/3.8.6/envs/MRIsegmentation/lib/python3.8/site-packages (from google-api-core<2.0.0dev,>=1.21.0->google-cloud-core<2.0dev,>=1.4.1->google-cloud-storage->MRIsegmentation==1.0) (1.53.0)\n",
      "Requirement already satisfied: protobuf>=3.12.0 in /home/alvarocg/.pyenv/versions/3.8.6/envs/MRIsegmentation/lib/python3.8/site-packages (from google-api-core<2.0.0dev,>=1.21.0->google-cloud-core<2.0dev,>=1.4.1->google-cloud-storage->MRIsegmentation==1.0) (3.17.3)\n",
      "Requirement already satisfied: google-crc32c<2.0dev,>=1.0 in /home/alvarocg/.pyenv/versions/3.8.6/envs/MRIsegmentation/lib/python3.8/site-packages (from google-resumable-media<2.0dev,>=1.3.0->google-cloud-storage->MRIsegmentation==1.0) (1.1.2)\n",
      "Requirement already satisfied: cffi>=1.0.0 in /home/alvarocg/.pyenv/versions/3.8.6/envs/MRIsegmentation/lib/python3.8/site-packages (from google-crc32c<2.0dev,>=1.0->google-resumable-media<2.0dev,>=1.3.0->google-cloud-storage->MRIsegmentation==1.0) (1.14.5)\n",
      "Requirement already satisfied: pycparser in /home/alvarocg/.pyenv/versions/3.8.6/envs/MRIsegmentation/lib/python3.8/site-packages (from cffi>=1.0.0->google-crc32c<2.0dev,>=1.0->google-resumable-media<2.0dev,>=1.3.0->google-cloud-storage->MRIsegmentation==1.0) (2.20)\n",
      "Requirement already satisfied: pyparsing>=2.0.2 in /home/alvarocg/.pyenv/versions/3.8.6/envs/MRIsegmentation/lib/python3.8/site-packages (from packaging>=14.3->google-api-core<2.0.0dev,>=1.21.0->google-cloud-core<2.0dev,>=1.4.1->google-cloud-storage->MRIsegmentation==1.0) (2.4.7)\n",
      "Requirement already satisfied: Flask in /home/alvarocg/.pyenv/versions/3.8.6/envs/MRIsegmentation/lib/python3.8/site-packages (from mlflow->MRIsegmentation==1.0) (2.0.1)\n",
      "Requirement already satisfied: prometheus-flask-exporter in /home/alvarocg/.pyenv/versions/3.8.6/envs/MRIsegmentation/lib/python3.8/site-packages (from mlflow->MRIsegmentation==1.0) (0.18.2)\n",
      "Requirement already satisfied: cloudpickle in /home/alvarocg/.pyenv/versions/3.8.6/envs/MRIsegmentation/lib/python3.8/site-packages (from mlflow->MRIsegmentation==1.0) (1.6.0)\n",
      "Requirement already satisfied: entrypoints in /home/alvarocg/.pyenv/versions/3.8.6/envs/MRIsegmentation/lib/python3.8/site-packages (from mlflow->MRIsegmentation==1.0) (0.3)\n",
      "Requirement already satisfied: databricks-cli>=0.8.7 in /home/alvarocg/.pyenv/versions/3.8.6/envs/MRIsegmentation/lib/python3.8/site-packages (from mlflow->MRIsegmentation==1.0) (0.14.3)\n",
      "Requirement already satisfied: alembic<=1.4.1 in /home/alvarocg/.pyenv/versions/3.8.6/envs/MRIsegmentation/lib/python3.8/site-packages (from mlflow->MRIsegmentation==1.0) (1.4.1)\n",
      "Requirement already satisfied: docker>=4.0.0 in /home/alvarocg/.pyenv/versions/3.8.6/envs/MRIsegmentation/lib/python3.8/site-packages (from mlflow->MRIsegmentation==1.0) (5.0.0)\n",
      "Requirement already satisfied: sqlparse>=0.3.1 in /home/alvarocg/.pyenv/versions/3.8.6/envs/MRIsegmentation/lib/python3.8/site-packages (from mlflow->MRIsegmentation==1.0) (0.4.1)\n",
      "Requirement already satisfied: gitpython>=2.1.0 in /home/alvarocg/.pyenv/versions/3.8.6/envs/MRIsegmentation/lib/python3.8/site-packages (from mlflow->MRIsegmentation==1.0) (3.1.18)\n",
      "Requirement already satisfied: gunicorn in /home/alvarocg/.pyenv/versions/3.8.6/envs/MRIsegmentation/lib/python3.8/site-packages (from mlflow->MRIsegmentation==1.0) (20.1.0)\n",
      "Requirement already satisfied: sqlalchemy in /home/alvarocg/.pyenv/versions/3.8.6/envs/MRIsegmentation/lib/python3.8/site-packages (from mlflow->MRIsegmentation==1.0) (1.4.20)\n",
      "Requirement already satisfied: querystring-parser in /home/alvarocg/.pyenv/versions/3.8.6/envs/MRIsegmentation/lib/python3.8/site-packages (from mlflow->MRIsegmentation==1.0) (1.2.4)\n",
      "Requirement already satisfied: pyyaml>=5.1 in /home/alvarocg/.pyenv/versions/3.8.6/envs/MRIsegmentation/lib/python3.8/site-packages (from mlflow->MRIsegmentation==1.0) (5.4.1)\n",
      "Requirement already satisfied: Mako in /home/alvarocg/.pyenv/versions/3.8.6/envs/MRIsegmentation/lib/python3.8/site-packages (from alembic<=1.4.1->mlflow->MRIsegmentation==1.0) (1.1.4)\n",
      "Requirement already satisfied: python-dateutil in /home/alvarocg/.pyenv/versions/3.8.6/envs/MRIsegmentation/lib/python3.8/site-packages (from alembic<=1.4.1->mlflow->MRIsegmentation==1.0) (2.8.1)\n",
      "Requirement already satisfied: python-editor>=0.3 in /home/alvarocg/.pyenv/versions/3.8.6/envs/MRIsegmentation/lib/python3.8/site-packages (from alembic<=1.4.1->mlflow->MRIsegmentation==1.0) (1.0.4)\n",
      "Requirement already satisfied: tabulate>=0.7.7 in /home/alvarocg/.pyenv/versions/3.8.6/envs/MRIsegmentation/lib/python3.8/site-packages (from databricks-cli>=0.8.7->mlflow->MRIsegmentation==1.0) (0.8.9)\n",
      "Requirement already satisfied: websocket-client>=0.32.0 in /home/alvarocg/.pyenv/versions/3.8.6/envs/MRIsegmentation/lib/python3.8/site-packages (from docker>=4.0.0->mlflow->MRIsegmentation==1.0) (1.1.0)\n",
      "Requirement already satisfied: gitdb<5,>=4.0.1 in /home/alvarocg/.pyenv/versions/3.8.6/envs/MRIsegmentation/lib/python3.8/site-packages (from gitpython>=2.1.0->mlflow->MRIsegmentation==1.0) (4.0.7)\n",
      "Requirement already satisfied: smmap<5,>=3.0.1 in /home/alvarocg/.pyenv/versions/3.8.6/envs/MRIsegmentation/lib/python3.8/site-packages (from gitdb<5,>=4.0.1->gitpython>=2.1.0->mlflow->MRIsegmentation==1.0) (4.0.0)\n",
      "Requirement already satisfied: greenlet!=0.4.17 in /home/alvarocg/.pyenv/versions/3.8.6/envs/MRIsegmentation/lib/python3.8/site-packages (from sqlalchemy->mlflow->MRIsegmentation==1.0) (1.1.0)\n",
      "Requirement already satisfied: Werkzeug>=2.0 in /home/alvarocg/.pyenv/versions/3.8.6/envs/MRIsegmentation/lib/python3.8/site-packages (from Flask->mlflow->MRIsegmentation==1.0) (2.0.1)\n",
      "Requirement already satisfied: itsdangerous>=2.0 in /home/alvarocg/.pyenv/versions/3.8.6/envs/MRIsegmentation/lib/python3.8/site-packages (from Flask->mlflow->MRIsegmentation==1.0) (2.0.1)\n",
      "Requirement already satisfied: Jinja2>=3.0 in /home/alvarocg/.pyenv/versions/3.8.6/envs/MRIsegmentation/lib/python3.8/site-packages (from Flask->mlflow->MRIsegmentation==1.0) (3.0.1)\n",
      "Requirement already satisfied: MarkupSafe>=2.0 in /home/alvarocg/.pyenv/versions/3.8.6/envs/MRIsegmentation/lib/python3.8/site-packages (from Jinja2>=3.0->Flask->mlflow->MRIsegmentation==1.0) (2.0.1)\n",
      "Requirement already satisfied: prometheus-client in /home/alvarocg/.pyenv/versions/3.8.6/envs/MRIsegmentation/lib/python3.8/site-packages (from prometheus-flask-exporter->mlflow->MRIsegmentation==1.0) (0.11.0)\n",
      "Requirement already satisfied: iniconfig in /home/alvarocg/.pyenv/versions/3.8.6/envs/MRIsegmentation/lib/python3.8/site-packages (from pytest->MRIsegmentation==1.0) (1.1.1)\n",
      "Requirement already satisfied: py>=1.8.2 in /home/alvarocg/.pyenv/versions/3.8.6/envs/MRIsegmentation/lib/python3.8/site-packages (from pytest->MRIsegmentation==1.0) (1.10.0)\n",
      "Requirement already satisfied: pluggy<1.0.0a1,>=0.12 in /home/alvarocg/.pyenv/versions/3.8.6/envs/MRIsegmentation/lib/python3.8/site-packages (from pytest->MRIsegmentation==1.0) (0.13.1)\n",
      "Requirement already satisfied: aiobotocore>=1.0.1 in /home/alvarocg/.pyenv/versions/3.8.6/envs/MRIsegmentation/lib/python3.8/site-packages (from s3fs->MRIsegmentation==1.0) (1.3.1)\n",
      "Requirement already satisfied: botocore<1.20.50,>=1.20.49 in /home/alvarocg/.pyenv/versions/3.8.6/envs/MRIsegmentation/lib/python3.8/site-packages (from aiobotocore>=1.0.1->s3fs->MRIsegmentation==1.0) (1.20.49)\n",
      "Requirement already satisfied: aioitertools>=0.5.1 in /home/alvarocg/.pyenv/versions/3.8.6/envs/MRIsegmentation/lib/python3.8/site-packages (from aiobotocore>=1.0.1->s3fs->MRIsegmentation==1.0) (0.7.1)\n",
      "Requirement already satisfied: wrapt>=1.10.10 in /home/alvarocg/.pyenv/versions/3.8.6/envs/MRIsegmentation/lib/python3.8/site-packages (from aiobotocore>=1.0.1->s3fs->MRIsegmentation==1.0) (1.12.1)\n",
      "Requirement already satisfied: jmespath<1.0.0,>=0.7.1 in /home/alvarocg/.pyenv/versions/3.8.6/envs/MRIsegmentation/lib/python3.8/site-packages (from botocore<1.20.50,>=1.20.49->aiobotocore>=1.0.1->s3fs->MRIsegmentation==1.0) (0.10.0)\n",
      "Requirement already satisfied: scipy>=0.19.1 in /home/alvarocg/.pyenv/versions/3.8.6/envs/MRIsegmentation/lib/python3.8/site-packages (from scikit-learn->MRIsegmentation==1.0) (1.7.0)\n",
      "Requirement already satisfied: threadpoolctl>=2.0.0 in /home/alvarocg/.pyenv/versions/3.8.6/envs/MRIsegmentation/lib/python3.8/site-packages (from scikit-learn->MRIsegmentation==1.0) (2.1.0)\n",
      "Requirement already satisfied: keras-preprocessing~=1.1.2 in /home/alvarocg/.pyenv/versions/3.8.6/envs/MRIsegmentation/lib/python3.8/site-packages (from tensorflow->MRIsegmentation==1.0) (1.1.2)\n",
      "Requirement already satisfied: google-pasta~=0.2 in /home/alvarocg/.pyenv/versions/3.8.6/envs/MRIsegmentation/lib/python3.8/site-packages (from tensorflow->MRIsegmentation==1.0) (0.2.0)\n",
      "Requirement already satisfied: opt-einsum~=3.3.0 in /home/alvarocg/.pyenv/versions/3.8.6/envs/MRIsegmentation/lib/python3.8/site-packages (from tensorflow->MRIsegmentation==1.0) (3.3.0)\n",
      "Requirement already satisfied: gast==0.4.0 in /home/alvarocg/.pyenv/versions/3.8.6/envs/MRIsegmentation/lib/python3.8/site-packages (from tensorflow->MRIsegmentation==1.0) (0.4.0)\n",
      "Requirement already satisfied: absl-py~=0.10 in /home/alvarocg/.pyenv/versions/3.8.6/envs/MRIsegmentation/lib/python3.8/site-packages (from tensorflow->MRIsegmentation==1.0) (0.13.0)\n",
      "Requirement already satisfied: flatbuffers~=1.12.0 in /home/alvarocg/.pyenv/versions/3.8.6/envs/MRIsegmentation/lib/python3.8/site-packages (from tensorflow->MRIsegmentation==1.0) (1.12)\n",
      "Requirement already satisfied: keras-nightly~=2.5.0.dev in /home/alvarocg/.pyenv/versions/3.8.6/envs/MRIsegmentation/lib/python3.8/site-packages (from tensorflow->MRIsegmentation==1.0) (2.5.0.dev2021032900)\n",
      "Requirement already satisfied: tensorflow-estimator<2.6.0,>=2.5.0rc0 in /home/alvarocg/.pyenv/versions/3.8.6/envs/MRIsegmentation/lib/python3.8/site-packages (from tensorflow->MRIsegmentation==1.0) (2.5.0)\n",
      "Requirement already satisfied: grpcio~=1.34.0 in /home/alvarocg/.pyenv/versions/3.8.6/envs/MRIsegmentation/lib/python3.8/site-packages (from tensorflow->MRIsegmentation==1.0) (1.34.1)\n",
      "Requirement already satisfied: h5py~=3.1.0 in /home/alvarocg/.pyenv/versions/3.8.6/envs/MRIsegmentation/lib/python3.8/site-packages (from tensorflow->MRIsegmentation==1.0) (3.1.0)\n",
      "Requirement already satisfied: tensorboard~=2.5 in /home/alvarocg/.pyenv/versions/3.8.6/envs/MRIsegmentation/lib/python3.8/site-packages (from tensorflow->MRIsegmentation==1.0) (2.5.0)\n",
      "Requirement already satisfied: astunparse~=1.6.3 in /home/alvarocg/.pyenv/versions/3.8.6/envs/MRIsegmentation/lib/python3.8/site-packages (from tensorflow->MRIsegmentation==1.0) (1.6.3)\n",
      "Requirement already satisfied: tensorboard-plugin-wit>=1.6.0 in /home/alvarocg/.pyenv/versions/3.8.6/envs/MRIsegmentation/lib/python3.8/site-packages (from tensorboard~=2.5->tensorflow->MRIsegmentation==1.0) (1.8.0)\n",
      "Requirement already satisfied: tensorboard-data-server<0.7.0,>=0.6.0 in /home/alvarocg/.pyenv/versions/3.8.6/envs/MRIsegmentation/lib/python3.8/site-packages (from tensorboard~=2.5->tensorflow->MRIsegmentation==1.0) (0.6.1)\n",
      "Requirement already satisfied: markdown>=2.6.8 in /home/alvarocg/.pyenv/versions/3.8.6/envs/MRIsegmentation/lib/python3.8/site-packages (from tensorboard~=2.5->tensorflow->MRIsegmentation==1.0) (3.3.4)\n",
      "Requirement already satisfied: typeguard>=2.7 in /home/alvarocg/.pyenv/versions/3.8.6/envs/MRIsegmentation/lib/python3.8/site-packages (from tensorflow-addons->MRIsegmentation==1.0) (2.12.1)\n",
      "Requirement already satisfied: tensorflow-io-gcs-filesystem==0.19.0 in /home/alvarocg/.pyenv/versions/3.8.6/envs/MRIsegmentation/lib/python3.8/site-packages (from tensorflow-io->MRIsegmentation==1.0) (0.19.0)\n",
      "Requirement already satisfied: requests-toolbelt!=0.9.0,>=0.8.0 in /home/alvarocg/.pyenv/versions/3.8.6/envs/MRIsegmentation/lib/python3.8/site-packages (from twine->MRIsegmentation==1.0) (0.9.1)\n",
      "Requirement already satisfied: keyring>=15.1 in /home/alvarocg/.pyenv/versions/3.8.6/envs/MRIsegmentation/lib/python3.8/site-packages (from twine->MRIsegmentation==1.0) (23.0.1)\n",
      "Requirement already satisfied: readme-renderer>=21.0 in /home/alvarocg/.pyenv/versions/3.8.6/envs/MRIsegmentation/lib/python3.8/site-packages (from twine->MRIsegmentation==1.0) (29.0)\n",
      "Requirement already satisfied: colorama>=0.4.3 in /home/alvarocg/.pyenv/versions/3.8.6/envs/MRIsegmentation/lib/python3.8/site-packages (from twine->MRIsegmentation==1.0) (0.4.4)\n",
      "Requirement already satisfied: tqdm>=4.14 in /home/alvarocg/.pyenv/versions/3.8.6/envs/MRIsegmentation/lib/python3.8/site-packages (from twine->MRIsegmentation==1.0) (4.61.1)\n",
      "Requirement already satisfied: importlib-metadata>=3.6 in /home/alvarocg/.pyenv/versions/3.8.6/envs/MRIsegmentation/lib/python3.8/site-packages (from twine->MRIsegmentation==1.0) (4.6.0)\n",
      "Requirement already satisfied: rfc3986>=1.4.0 in /home/alvarocg/.pyenv/versions/3.8.6/envs/MRIsegmentation/lib/python3.8/site-packages (from twine->MRIsegmentation==1.0) (1.5.0)\n",
      "Requirement already satisfied: pkginfo>=1.4.2 in /home/alvarocg/.pyenv/versions/3.8.6/envs/MRIsegmentation/lib/python3.8/site-packages (from twine->MRIsegmentation==1.0) (1.7.0)\n",
      "Requirement already satisfied: zipp>=0.5 in /home/alvarocg/.pyenv/versions/3.8.6/envs/MRIsegmentation/lib/python3.8/site-packages (from importlib-metadata>=3.6->twine->MRIsegmentation==1.0) (3.4.1)\n",
      "Requirement already satisfied: SecretStorage>=3.2 in /home/alvarocg/.pyenv/versions/3.8.6/envs/MRIsegmentation/lib/python3.8/site-packages (from keyring>=15.1->twine->MRIsegmentation==1.0) (3.3.1)\n",
      "Requirement already satisfied: jeepney>=0.4.2 in /home/alvarocg/.pyenv/versions/3.8.6/envs/MRIsegmentation/lib/python3.8/site-packages (from keyring>=15.1->twine->MRIsegmentation==1.0) (0.6.0)\n",
      "Requirement already satisfied: docutils>=0.13.1 in /home/alvarocg/.pyenv/versions/3.8.6/envs/MRIsegmentation/lib/python3.8/site-packages (from readme-renderer>=21.0->twine->MRIsegmentation==1.0) (0.17.1)\n",
      "Requirement already satisfied: bleach>=2.1.0 in /home/alvarocg/.pyenv/versions/3.8.6/envs/MRIsegmentation/lib/python3.8/site-packages (from readme-renderer>=21.0->twine->MRIsegmentation==1.0) (3.3.0)\n",
      "Requirement already satisfied: Pygments>=2.5.1 in /home/alvarocg/.pyenv/versions/3.8.6/envs/MRIsegmentation/lib/python3.8/site-packages (from readme-renderer>=21.0->twine->MRIsegmentation==1.0) (2.9.0)\n",
      "Requirement already satisfied: webencodings in /home/alvarocg/.pyenv/versions/3.8.6/envs/MRIsegmentation/lib/python3.8/site-packages (from bleach>=2.1.0->readme-renderer>=21.0->twine->MRIsegmentation==1.0) (0.5.1)\n",
      "Requirement already satisfied: cryptography>=2.0 in /home/alvarocg/.pyenv/versions/3.8.6/envs/MRIsegmentation/lib/python3.8/site-packages (from SecretStorage>=3.2->keyring>=15.1->twine->MRIsegmentation==1.0) (3.4.7)\n",
      "time: 3.08 s (started: 2021-07-06 11:54:43 +02:00)\n"
     ]
    }
   ],
   "source": [
    "! pip install git+https://github.com/sanpigh/MRIsegmentation.git@cleanup --upgrade"
   ]
  },
  {
   "cell_type": "code",
   "execution_count": 8,
   "id": "6329a6f3-3235-4671-9e79-5ae45e318705",
   "metadata": {},
   "outputs": [
    {
     "name": "stdout",
     "output_type": "stream",
     "text": [
      "time: 468 µs (started: 2021-07-06 12:14:33 +02:00)\n"
     ]
    }
   ],
   "source": [
    "# drive.mount('/content/drive')"
   ]
  },
  {
   "cell_type": "code",
   "execution_count": 16,
   "id": "6674884a-fa41-4ea4-925c-9567766b4444",
   "metadata": {},
   "outputs": [
    {
     "name": "stdout",
     "output_type": "stream",
     "text": [
      "time: 1.14 s (started: 2021-07-06 12:20:19 +02:00)\n"
     ]
    }
   ],
   "source": [
    "import os\n",
    "import numpy as np\n",
    "import pandas as pd\n",
    "import matplotlib.pyplot as plt\n",
    "import seaborn as sns\n",
    "import cv2\n",
    "from skimage import io\n",
    "\n",
    "from sklearn.model_selection import train_test_split\n",
    "import tensorflow as tf\n",
    "from tensorflow.python.keras import Sequential\n",
    "from tensorflow.keras import layers, optimizers\n",
    "from tensorflow.keras.models import Model, load_model\n",
    "from tensorflow.keras.initializers import glorot_uniform\n",
    "from tensorflow.keras.utils import plot_model\n",
    "from tensorflow.keras.callbacks import ReduceLROnPlateau, EarlyStopping, ModelCheckpoint, LearningRateScheduler\n",
    "import tensorflow.keras.backend as K\n",
    "\n",
    "from tensorflow.keras.layers import Conv2D, BatchNormalization, Activation, MaxPool2D, Conv2DTranspose, Concatenate, Input\n",
    "from tensorflow.keras.applications import VGG19\n",
    "\n",
    "from warnings import filterwarnings\n",
    "filterwarnings('ignore')\n",
    "\n",
    "import random\n",
    "\n",
    "import glob\n",
    "from IPython.display import display"
   ]
  },
  {
   "cell_type": "code",
   "execution_count": 24,
   "id": "f612026c-35e4-4fe7-af7c-3f85920cc555",
   "metadata": {},
   "outputs": [
    {
     "name": "stdout",
     "output_type": "stream",
     "text": [
      "/home/alvarocg/code/sanpigh/MRIsegmentation/notebooks\n",
      "time: 146 ms (started: 2021-07-06 12:23:47 +02:00)\n"
     ]
    }
   ],
   "source": [
    "!pwd"
   ]
  },
  {
   "cell_type": "code",
   "execution_count": 22,
   "id": "ccd7ece1-6099-437f-ad62-6cbd548a6251",
   "metadata": {},
   "outputs": [
    {
     "name": "stdout",
     "output_type": "stream",
     "text": [
      "time: 743 µs (started: 2021-07-06 12:23:06 +02:00)\n"
     ]
    }
   ],
   "source": [
    "DATA_PATH = \"/home/alvarocg/code/sanpigh/MRIsegmentation/raw_data/kaggle_3m/\""
   ]
  },
  {
   "cell_type": "code",
   "execution_count": 23,
   "id": "48c0843b-e43a-42ab-89e0-fd98681fda75",
   "metadata": {},
   "outputs": [
    {
     "name": "stdout",
     "output_type": "stream",
     "text": [
      "<class 'pandas.core.frame.DataFrame'>\n",
      "RangeIndex: 110 entries, 0 to 109\n",
      "Data columns (total 18 columns):\n",
      " #   Column                     Non-Null Count  Dtype  \n",
      "---  ------                     --------------  -----  \n",
      " 0   Patient                    110 non-null    object \n",
      " 1   RNASeqCluster              92 non-null     float64\n",
      " 2   MethylationCluster         109 non-null    float64\n",
      " 3   miRNACluster               110 non-null    int64  \n",
      " 4   CNCluster                  108 non-null    float64\n",
      " 5   RPPACluster                98 non-null     float64\n",
      " 6   OncosignCluster            105 non-null    float64\n",
      " 7   COCCluster                 110 non-null    int64  \n",
      " 8   histological_type          109 non-null    float64\n",
      " 9   neoplasm_histologic_grade  109 non-null    float64\n",
      " 10  tumor_tissue_site          109 non-null    float64\n",
      " 11  laterality                 109 non-null    float64\n",
      " 12  tumor_location             109 non-null    float64\n",
      " 13  gender                     109 non-null    float64\n",
      " 14  age_at_initial_pathologic  109 non-null    float64\n",
      " 15  race                       108 non-null    float64\n",
      " 16  ethnicity                  102 non-null    float64\n",
      " 17  death01                    109 non-null    float64\n",
      "dtypes: float64(15), int64(2), object(1)\n",
      "memory usage: 15.6+ KB\n",
      "time: 55.4 ms (started: 2021-07-06 12:23:08 +02:00)\n"
     ]
    }
   ],
   "source": [
    "data = pd.read_csv(DATA_PATH + 'data.csv')\n",
    "data.info()"
   ]
  },
  {
   "cell_type": "code",
   "execution_count": 26,
   "id": "649f60ed-9027-4d3d-921d-ca91e5fe0467",
   "metadata": {},
   "outputs": [
    {
     "name": "stdout",
     "output_type": "stream",
     "text": [
      "3929\n",
      "3931\n",
      "time: 257 ms (started: 2021-07-06 12:24:48 +02:00)\n"
     ]
    }
   ],
   "source": [
    "!find ../raw_data/kaggle_3m -type f -print | grep mask | wc -l    # files with mask suffix\n",
    "!find ../raw_data/kaggle_3m -type f -print | grep -v mask | wc -l # files without mask suffix"
   ]
  },
  {
   "cell_type": "code",
   "execution_count": 96,
   "id": "fc790605-18d3-463e-b3c4-7e1d1578a5c7",
   "metadata": {},
   "outputs": [
    {
     "name": "stdout",
     "output_type": "stream",
     "text": [
      "[Errno 20] Not a directory: '/home/alvarocg/code/sanpigh/MRIsegmentation/raw_data/kaggle_3m/data.csv'\n",
      "[Errno 20] Not a directory: '/home/alvarocg/code/sanpigh/MRIsegmentation/raw_data/kaggle_3m/README.md'\n",
      "time: 56.4 ms (started: 2021-07-06 15:41:50 +02:00)\n"
     ]
    }
   ],
   "source": [
    "# Raw data\n",
    "# data_map = []\n",
    "# for sub_dir_path in glob.glob(DATA_PATH+\"*\"):\n",
    "#     if os.path.isdir(sub_dir_path):\n",
    "#         dirname = sub_dir_path.split(\"/\")[-1]\n",
    "#         for filename in os.listdir(sub_dir_path):\n",
    "#             image_path = sub_dir_path + \"/\" + filename\n",
    "#             data_map.extend([dirname, image_path])\n",
    "#     else:\n",
    "#         print(\"This is not a dir:\", sub_dir_path)\n",
    "\n",
    "# Raw data\n",
    "data_map = []\n",
    "for sub_dir_path in glob.glob(DATA_PATH+\"*\"):\n",
    "    #if os.path.isdir(sub_path_dir):\n",
    "    try:\n",
    "        dir_name = sub_dir_path.split('/')[-1]\n",
    "        for filename in os.listdir(sub_dir_path):\n",
    "            image_path = sub_dir_path + '/' + filename\n",
    "            data_map.extend([dir_name, image_path])\n",
    "    except Exception as e:\n",
    "        print(e)"
   ]
  },
  {
   "cell_type": "code",
   "execution_count": 97,
   "id": "8a09c891-0385-4d33-a793-fe6c033f20c6",
   "metadata": {},
   "outputs": [
    {
     "data": {
      "text/html": [
       "<div>\n",
       "<style scoped>\n",
       "    .dataframe tbody tr th:only-of-type {\n",
       "        vertical-align: middle;\n",
       "    }\n",
       "\n",
       "    .dataframe tbody tr th {\n",
       "        vertical-align: top;\n",
       "    }\n",
       "\n",
       "    .dataframe thead th {\n",
       "        text-align: right;\n",
       "    }\n",
       "</style>\n",
       "<table border=\"1\" class=\"dataframe\">\n",
       "  <thead>\n",
       "    <tr style=\"text-align: right;\">\n",
       "      <th></th>\n",
       "      <th>patient_id</th>\n",
       "      <th>path</th>\n",
       "    </tr>\n",
       "  </thead>\n",
       "  <tbody>\n",
       "    <tr>\n",
       "      <th>0</th>\n",
       "      <td>TCGA_DU_7294_19890104</td>\n",
       "      <td>/home/alvarocg/code/sanpigh/MRIsegmentation/ra...</td>\n",
       "    </tr>\n",
       "    <tr>\n",
       "      <th>1</th>\n",
       "      <td>TCGA_DU_7294_19890104</td>\n",
       "      <td>/home/alvarocg/code/sanpigh/MRIsegmentation/ra...</td>\n",
       "    </tr>\n",
       "    <tr>\n",
       "      <th>2</th>\n",
       "      <td>TCGA_DU_7294_19890104</td>\n",
       "      <td>/home/alvarocg/code/sanpigh/MRIsegmentation/ra...</td>\n",
       "    </tr>\n",
       "    <tr>\n",
       "      <th>3</th>\n",
       "      <td>TCGA_DU_7294_19890104</td>\n",
       "      <td>/home/alvarocg/code/sanpigh/MRIsegmentation/ra...</td>\n",
       "    </tr>\n",
       "    <tr>\n",
       "      <th>4</th>\n",
       "      <td>TCGA_DU_7294_19890104</td>\n",
       "      <td>/home/alvarocg/code/sanpigh/MRIsegmentation/ra...</td>\n",
       "    </tr>\n",
       "  </tbody>\n",
       "</table>\n",
       "</div>"
      ],
      "text/plain": [
       "              patient_id                                               path\n",
       "0  TCGA_DU_7294_19890104  /home/alvarocg/code/sanpigh/MRIsegmentation/ra...\n",
       "1  TCGA_DU_7294_19890104  /home/alvarocg/code/sanpigh/MRIsegmentation/ra...\n",
       "2  TCGA_DU_7294_19890104  /home/alvarocg/code/sanpigh/MRIsegmentation/ra...\n",
       "3  TCGA_DU_7294_19890104  /home/alvarocg/code/sanpigh/MRIsegmentation/ra...\n",
       "4  TCGA_DU_7294_19890104  /home/alvarocg/code/sanpigh/MRIsegmentation/ra..."
      ]
     },
     "execution_count": 97,
     "metadata": {},
     "output_type": "execute_result"
    },
    {
     "name": "stdout",
     "output_type": "stream",
     "text": [
      "time: 65.1 ms (started: 2021-07-06 15:42:50 +02:00)\n"
     ]
    }
   ],
   "source": [
    "df = pd.DataFrame({\"patient_id\" : data_map[::2],\n",
    "                   \"path\" : data_map[1::2]})\n",
    "df.head()"
   ]
  },
  {
   "cell_type": "code",
   "execution_count": 111,
   "id": "01db2512-0ed9-4424-856d-2b7ba32eb987",
   "metadata": {},
   "outputs": [
    {
     "data": {
      "text/plain": [
       "(3929, 3929, 3929)"
      ]
     },
     "execution_count": 111,
     "metadata": {},
     "output_type": "execute_result"
    },
    {
     "name": "stdout",
     "output_type": "stream",
     "text": [
      "time: 5.06 ms (started: 2021-07-06 15:48:31 +02:00)\n"
     ]
    }
   ],
   "source": [
    "len(dirs), len(images), len(masks)"
   ]
  },
  {
   "cell_type": "code",
   "execution_count": 112,
   "id": "0c6bf367-8153-4492-915d-e6681786dfda",
   "metadata": {},
   "outputs": [
    {
     "name": "stdout",
     "output_type": "stream",
     "text": [
      "time: 6.58 ms (started: 2021-07-06 15:48:35 +02:00)\n"
     ]
    }
   ],
   "source": [
    "imagePath_df = pd.DataFrame({'directory': dirs, 'images': images, 'masks': masks})"
   ]
  },
  {
   "cell_type": "code",
   "execution_count": 113,
   "id": "a1df2887-7e7d-4b32-9927-e8710dd83242",
   "metadata": {},
   "outputs": [
    {
     "data": {
      "text/html": [
       "<div>\n",
       "<style scoped>\n",
       "    .dataframe tbody tr th:only-of-type {\n",
       "        vertical-align: middle;\n",
       "    }\n",
       "\n",
       "    .dataframe tbody tr th {\n",
       "        vertical-align: top;\n",
       "    }\n",
       "\n",
       "    .dataframe thead th {\n",
       "        text-align: right;\n",
       "    }\n",
       "</style>\n",
       "<table border=\"1\" class=\"dataframe\">\n",
       "  <thead>\n",
       "    <tr style=\"text-align: right;\">\n",
       "      <th></th>\n",
       "      <th>directory</th>\n",
       "      <th>images</th>\n",
       "      <th>masks</th>\n",
       "    </tr>\n",
       "  </thead>\n",
       "  <tbody>\n",
       "    <tr>\n",
       "      <th>0</th>\n",
       "      <td>TCGA_DU_7294_19890104</td>\n",
       "      <td>TCGA_DU_7294_19890104_30.tif</td>\n",
       "      <td>TCGA_DU_7294_19890104_30_mask.tif</td>\n",
       "    </tr>\n",
       "    <tr>\n",
       "      <th>1</th>\n",
       "      <td>TCGA_DU_7294_19890104</td>\n",
       "      <td>TCGA_DU_7294_19890104_3.tif</td>\n",
       "      <td>TCGA_DU_7294_19890104_3_mask.tif</td>\n",
       "    </tr>\n",
       "    <tr>\n",
       "      <th>2</th>\n",
       "      <td>TCGA_DU_7294_19890104</td>\n",
       "      <td>TCGA_DU_7294_19890104_26.tif</td>\n",
       "      <td>TCGA_DU_7294_19890104_26_mask.tif</td>\n",
       "    </tr>\n",
       "    <tr>\n",
       "      <th>3</th>\n",
       "      <td>TCGA_DU_7294_19890104</td>\n",
       "      <td>TCGA_DU_7294_19890104_19.tif</td>\n",
       "      <td>TCGA_DU_7294_19890104_19_mask.tif</td>\n",
       "    </tr>\n",
       "    <tr>\n",
       "      <th>4</th>\n",
       "      <td>TCGA_DU_7294_19890104</td>\n",
       "      <td>TCGA_DU_7294_19890104_9.tif</td>\n",
       "      <td>TCGA_DU_7294_19890104_9_mask.tif</td>\n",
       "    </tr>\n",
       "    <tr>\n",
       "      <th>...</th>\n",
       "      <td>...</td>\n",
       "      <td>...</td>\n",
       "      <td>...</td>\n",
       "    </tr>\n",
       "    <tr>\n",
       "      <th>3924</th>\n",
       "      <td>TCGA_DU_7309_19960831</td>\n",
       "      <td>TCGA_DU_7309_19960831_8.tif</td>\n",
       "      <td>TCGA_DU_7309_19960831_8_mask.tif</td>\n",
       "    </tr>\n",
       "    <tr>\n",
       "      <th>3925</th>\n",
       "      <td>TCGA_DU_7309_19960831</td>\n",
       "      <td>TCGA_DU_7309_19960831_37.tif</td>\n",
       "      <td>TCGA_DU_7309_19960831_37_mask.tif</td>\n",
       "    </tr>\n",
       "    <tr>\n",
       "      <th>3926</th>\n",
       "      <td>TCGA_DU_7309_19960831</td>\n",
       "      <td>TCGA_DU_7309_19960831_13.tif</td>\n",
       "      <td>TCGA_DU_7309_19960831_13_mask.tif</td>\n",
       "    </tr>\n",
       "    <tr>\n",
       "      <th>3927</th>\n",
       "      <td>TCGA_DU_7309_19960831</td>\n",
       "      <td>TCGA_DU_7309_19960831_11.tif</td>\n",
       "      <td>TCGA_DU_7309_19960831_11_mask.tif</td>\n",
       "    </tr>\n",
       "    <tr>\n",
       "      <th>3928</th>\n",
       "      <td>TCGA_DU_7309_19960831</td>\n",
       "      <td>TCGA_DU_7309_19960831_7.tif</td>\n",
       "      <td>TCGA_DU_7309_19960831_7_mask.tif</td>\n",
       "    </tr>\n",
       "  </tbody>\n",
       "</table>\n",
       "<p>3929 rows × 3 columns</p>\n",
       "</div>"
      ],
      "text/plain": [
       "                  directory                        images  \\\n",
       "0     TCGA_DU_7294_19890104  TCGA_DU_7294_19890104_30.tif   \n",
       "1     TCGA_DU_7294_19890104   TCGA_DU_7294_19890104_3.tif   \n",
       "2     TCGA_DU_7294_19890104  TCGA_DU_7294_19890104_26.tif   \n",
       "3     TCGA_DU_7294_19890104  TCGA_DU_7294_19890104_19.tif   \n",
       "4     TCGA_DU_7294_19890104   TCGA_DU_7294_19890104_9.tif   \n",
       "...                     ...                           ...   \n",
       "3924  TCGA_DU_7309_19960831   TCGA_DU_7309_19960831_8.tif   \n",
       "3925  TCGA_DU_7309_19960831  TCGA_DU_7309_19960831_37.tif   \n",
       "3926  TCGA_DU_7309_19960831  TCGA_DU_7309_19960831_13.tif   \n",
       "3927  TCGA_DU_7309_19960831  TCGA_DU_7309_19960831_11.tif   \n",
       "3928  TCGA_DU_7309_19960831   TCGA_DU_7309_19960831_7.tif   \n",
       "\n",
       "                                  masks  \n",
       "0     TCGA_DU_7294_19890104_30_mask.tif  \n",
       "1      TCGA_DU_7294_19890104_3_mask.tif  \n",
       "2     TCGA_DU_7294_19890104_26_mask.tif  \n",
       "3     TCGA_DU_7294_19890104_19_mask.tif  \n",
       "4      TCGA_DU_7294_19890104_9_mask.tif  \n",
       "...                                 ...  \n",
       "3924   TCGA_DU_7309_19960831_8_mask.tif  \n",
       "3925  TCGA_DU_7309_19960831_37_mask.tif  \n",
       "3926  TCGA_DU_7309_19960831_13_mask.tif  \n",
       "3927  TCGA_DU_7309_19960831_11_mask.tif  \n",
       "3928   TCGA_DU_7309_19960831_7_mask.tif  \n",
       "\n",
       "[3929 rows x 3 columns]"
      ]
     },
     "execution_count": 113,
     "metadata": {},
     "output_type": "execute_result"
    },
    {
     "name": "stdout",
     "output_type": "stream",
     "text": [
      "time: 15.9 ms (started: 2021-07-06 15:48:41 +02:00)\n"
     ]
    }
   ],
   "source": [
    "imagePath_df"
   ]
  },
  {
   "cell_type": "code",
   "execution_count": 115,
   "id": "43a3443e-193b-431c-ba13-14e388d1a283",
   "metadata": {},
   "outputs": [
    {
     "name": "stdout",
     "output_type": "stream",
     "text": [
      "3929\n",
      "3931\n",
      "time: 717 ms (started: 2021-07-06 15:49:13 +02:00)\n"
     ]
    }
   ],
   "source": [
    "!find ../raw_data/kaggle_3m -type f -print | grep mask | wc -l    # files with mask suffix\n",
    "!find ../raw_data/kaggle_3m -type f -print | grep -v mask | wc -l # files without mask suffix"
   ]
  },
  {
   "cell_type": "code",
   "execution_count": null,
   "id": "8a0f1256-3427-4f56-9387-e03e43033529",
   "metadata": {},
   "outputs": [],
   "source": []
  },
  {
   "cell_type": "code",
   "execution_count": 116,
   "id": "f923d24d-16c3-42bd-8f52-3c9efbf6fac8",
   "metadata": {},
   "outputs": [
    {
     "name": "stdout",
     "output_type": "stream",
     "text": [
      "time: 1.79 ms (started: 2021-07-06 15:49:31 +02:00)\n"
     ]
    }
   ],
   "source": [
    "from os import walk # to navigate along directories\n",
    "# from os.path import isfile, join\n",
    "import tensorflow as tf"
   ]
  },
  {
   "cell_type": "code",
   "execution_count": 117,
   "id": "f21ec13e-7609-41d7-b267-02411780f9b2",
   "metadata": {},
   "outputs": [
    {
     "name": "stdout",
     "output_type": "stream",
     "text": [
      "This is not a dir: /home/alvarocg/code/sanpigh/MRIsegmentation/raw_data/kaggle_3m/data.csv\n",
      "This is not a dir: /home/alvarocg/code/sanpigh/MRIsegmentation/raw_data/kaggle_3m/README.md\n"
     ]
    },
    {
     "data": {
      "text/html": [
       "<div>\n",
       "<style scoped>\n",
       "    .dataframe tbody tr th:only-of-type {\n",
       "        vertical-align: middle;\n",
       "    }\n",
       "\n",
       "    .dataframe tbody tr th {\n",
       "        vertical-align: top;\n",
       "    }\n",
       "\n",
       "    .dataframe thead th {\n",
       "        text-align: right;\n",
       "    }\n",
       "</style>\n",
       "<table border=\"1\" class=\"dataframe\">\n",
       "  <thead>\n",
       "    <tr style=\"text-align: right;\">\n",
       "      <th></th>\n",
       "      <th>dirname</th>\n",
       "      <th>path</th>\n",
       "    </tr>\n",
       "  </thead>\n",
       "  <tbody>\n",
       "    <tr>\n",
       "      <th>0</th>\n",
       "      <td>TCGA_DU_7294_19890104</td>\n",
       "      <td>/home/alvarocg/code/sanpigh/MRIsegmentation/ra...</td>\n",
       "    </tr>\n",
       "    <tr>\n",
       "      <th>1</th>\n",
       "      <td>TCGA_DU_7294_19890104</td>\n",
       "      <td>/home/alvarocg/code/sanpigh/MRIsegmentation/ra...</td>\n",
       "    </tr>\n",
       "    <tr>\n",
       "      <th>2</th>\n",
       "      <td>TCGA_DU_7294_19890104</td>\n",
       "      <td>/home/alvarocg/code/sanpigh/MRIsegmentation/ra...</td>\n",
       "    </tr>\n",
       "    <tr>\n",
       "      <th>3</th>\n",
       "      <td>TCGA_DU_7294_19890104</td>\n",
       "      <td>/home/alvarocg/code/sanpigh/MRIsegmentation/ra...</td>\n",
       "    </tr>\n",
       "    <tr>\n",
       "      <th>4</th>\n",
       "      <td>TCGA_DU_7294_19890104</td>\n",
       "      <td>/home/alvarocg/code/sanpigh/MRIsegmentation/ra...</td>\n",
       "    </tr>\n",
       "  </tbody>\n",
       "</table>\n",
       "</div>"
      ],
      "text/plain": [
       "                 dirname                                               path\n",
       "0  TCGA_DU_7294_19890104  /home/alvarocg/code/sanpigh/MRIsegmentation/ra...\n",
       "1  TCGA_DU_7294_19890104  /home/alvarocg/code/sanpigh/MRIsegmentation/ra...\n",
       "2  TCGA_DU_7294_19890104  /home/alvarocg/code/sanpigh/MRIsegmentation/ra...\n",
       "3  TCGA_DU_7294_19890104  /home/alvarocg/code/sanpigh/MRIsegmentation/ra...\n",
       "4  TCGA_DU_7294_19890104  /home/alvarocg/code/sanpigh/MRIsegmentation/ra..."
      ]
     },
     "execution_count": 117,
     "metadata": {},
     "output_type": "execute_result"
    },
    {
     "name": "stdout",
     "output_type": "stream",
     "text": [
      "time: 30.9 ms (started: 2021-07-06 15:49:36 +02:00)\n"
     ]
    }
   ],
   "source": [
    "# Raw data\n",
    "data_map = []\n",
    "for sub_dir_path in glob.glob(DATA_PATH+\"*\"):\n",
    "    if os.path.isdir(sub_dir_path):\n",
    "        dirname = sub_dir_path.split(\"/\")[-1]\n",
    "        for filename in os.listdir(sub_dir_path):\n",
    "            image_path = sub_dir_path + \"/\" + filename\n",
    "            data_map.extend([dirname, image_path])\n",
    "    else:\n",
    "        print(\"This is not a dir:\", sub_dir_path)\n",
    "        \n",
    "        \n",
    "df = pd.DataFrame({\"dirname\" : data_map[::2],\n",
    "                  \"path\" : data_map[1::2]})\n",
    "df.head()"
   ]
  },
  {
   "cell_type": "code",
   "execution_count": null,
   "id": "b4f91949-6a54-4b2a-8864-272c47da01e5",
   "metadata": {},
   "outputs": [],
   "source": []
  },
  {
   "cell_type": "code",
   "execution_count": 5,
   "id": "41793a73-53b0-461e-8037-d2394c5f443b",
   "metadata": {},
   "outputs": [],
   "source": []
  },
  {
   "cell_type": "code",
   "execution_count": null,
   "id": "6ca96c8d-eee0-4058-a7e4-5761bc1be1c5",
   "metadata": {
    "scrolled": true,
    "tags": []
   },
   "outputs": [],
   "source": []
  },
  {
   "cell_type": "code",
   "execution_count": 11,
   "id": "84268bd3-8d2d-40c3-bb3d-646468c9e1ec",
   "metadata": {},
   "outputs": [
    {
     "name": "stdout",
     "output_type": "stream",
     "text": [
      "tensorflow==2.5.0\n",
      "tensorflow-addons==0.13.0\n",
      "tensorflow-estimator==2.5.0\n",
      "tensorflow-io==0.19.0\n",
      "tensorflow-io-gcs-filesystem==0.19.0\n"
     ]
    }
   ],
   "source": [
    "!pip freeze | grep tensorflow"
   ]
  },
  {
   "cell_type": "code",
   "execution_count": 10,
   "id": "6c4f9a38-9859-4373-ad2a-5e618a8fb87a",
   "metadata": {},
   "outputs": [],
   "source": [
    "%load_ext autoreload\n",
    "%autoreload 2"
   ]
  },
  {
   "cell_type": "code",
   "execution_count": 12,
   "id": "07b3f9b4-b01c-46de-accb-66669525930f",
   "metadata": {
    "scrolled": true,
    "tags": []
   },
   "outputs": [
    {
     "name": "stdout",
     "output_type": "stream",
     "text": [
      "Collecting ipython-autotime\n",
      "  Downloading ipython_autotime-0.3.1-py2.py3-none-any.whl (6.8 kB)\n",
      "Requirement already satisfied: ipython in /home/alvarocg/.pyenv/versions/3.8.6/envs/MRIsegmentation/lib/python3.8/site-packages (from ipython-autotime) (7.25.0)\n",
      "Requirement already satisfied: jedi>=0.16 in /home/alvarocg/.pyenv/versions/3.8.6/envs/MRIsegmentation/lib/python3.8/site-packages (from ipython->ipython-autotime) (0.18.0)\n",
      "Requirement already satisfied: backcall in /home/alvarocg/.pyenv/versions/3.8.6/envs/MRIsegmentation/lib/python3.8/site-packages (from ipython->ipython-autotime) (0.2.0)\n",
      "Requirement already satisfied: pexpect>4.3 in /home/alvarocg/.pyenv/versions/3.8.6/envs/MRIsegmentation/lib/python3.8/site-packages (from ipython->ipython-autotime) (4.8.0)\n",
      "Requirement already satisfied: decorator in /home/alvarocg/.pyenv/versions/3.8.6/envs/MRIsegmentation/lib/python3.8/site-packages (from ipython->ipython-autotime) (4.4.2)\n",
      "Requirement already satisfied: matplotlib-inline in /home/alvarocg/.pyenv/versions/3.8.6/envs/MRIsegmentation/lib/python3.8/site-packages (from ipython->ipython-autotime) (0.1.2)\n",
      "Requirement already satisfied: traitlets>=4.2 in /home/alvarocg/.pyenv/versions/3.8.6/envs/MRIsegmentation/lib/python3.8/site-packages (from ipython->ipython-autotime) (5.0.5)\n",
      "Requirement already satisfied: pickleshare in /home/alvarocg/.pyenv/versions/3.8.6/envs/MRIsegmentation/lib/python3.8/site-packages (from ipython->ipython-autotime) (0.7.5)\n",
      "Requirement already satisfied: prompt-toolkit!=3.0.0,!=3.0.1,<3.1.0,>=2.0.0 in /home/alvarocg/.pyenv/versions/3.8.6/envs/MRIsegmentation/lib/python3.8/site-packages (from ipython->ipython-autotime) (3.0.19)\n",
      "Requirement already satisfied: pygments in /home/alvarocg/.pyenv/versions/3.8.6/envs/MRIsegmentation/lib/python3.8/site-packages (from ipython->ipython-autotime) (2.9.0)\n",
      "Requirement already satisfied: setuptools>=18.5 in /home/alvarocg/.pyenv/versions/3.8.6/envs/MRIsegmentation/lib/python3.8/site-packages (from ipython->ipython-autotime) (49.2.1)\n",
      "Requirement already satisfied: parso<0.9.0,>=0.8.0 in /home/alvarocg/.pyenv/versions/3.8.6/envs/MRIsegmentation/lib/python3.8/site-packages (from jedi>=0.16->ipython->ipython-autotime) (0.8.2)\n",
      "Requirement already satisfied: ptyprocess>=0.5 in /home/alvarocg/.pyenv/versions/3.8.6/envs/MRIsegmentation/lib/python3.8/site-packages (from pexpect>4.3->ipython->ipython-autotime) (0.7.0)\n",
      "Requirement already satisfied: wcwidth in /home/alvarocg/.pyenv/versions/3.8.6/envs/MRIsegmentation/lib/python3.8/site-packages (from prompt-toolkit!=3.0.0,!=3.0.1,<3.1.0,>=2.0.0->ipython->ipython-autotime) (0.2.5)\n",
      "Requirement already satisfied: ipython-genutils in /home/alvarocg/.pyenv/versions/3.8.6/envs/MRIsegmentation/lib/python3.8/site-packages (from traitlets>=4.2->ipython->ipython-autotime) (0.2.0)\n",
      "Installing collected packages: ipython-autotime\n",
      "Successfully installed ipython-autotime-0.3.1\n"
     ]
    }
   ],
   "source": [
    "!pip install ipython-autotime"
   ]
  },
  {
   "cell_type": "code",
   "execution_count": 13,
   "id": "ef1e0a1c-025c-4d99-8234-22e95d716cc0",
   "metadata": {},
   "outputs": [
    {
     "name": "stdout",
     "output_type": "stream",
     "text": [
      "time: 7.88 ms (started: 2021-07-06 09:50:55 +02:00)\n"
     ]
    }
   ],
   "source": [
    "%load_ext autotime\n",
    "%load_ext tensorboard"
   ]
  },
  {
   "cell_type": "code",
   "execution_count": 14,
   "id": "b29ac984-d020-4e01-a1de-2fc94b6fdd6b",
   "metadata": {
    "scrolled": true,
    "tags": []
   },
   "outputs": [
    {
     "name": "stdout",
     "output_type": "stream",
     "text": [
      "Collecting git+https://github.com/sanpigh/MRIsegmentation.git@cleanup\n",
      "  Cloning https://github.com/sanpigh/MRIsegmentation.git (to revision cleanup) to /tmp/pip-req-build-k5i4fskj\n",
      "  Running command git clone -q https://github.com/sanpigh/MRIsegmentation.git /tmp/pip-req-build-k5i4fskj\n",
      "  Running command git checkout -b cleanup --track origin/cleanup\n",
      "  Switched to a new branch 'cleanup'\n",
      "  Branch 'cleanup' set up to track remote branch 'cleanup' from 'origin'.\n",
      "Requirement already satisfied: pip>=9 in /home/alvarocg/.pyenv/versions/3.8.6/envs/MRIsegmentation/lib/python3.8/site-packages (from MRIsegmentation==1.0) (21.1.3)\n",
      "Requirement already satisfied: setuptools>=26 in /home/alvarocg/.pyenv/versions/3.8.6/envs/MRIsegmentation/lib/python3.8/site-packages (from MRIsegmentation==1.0) (49.2.1)\n",
      "Requirement already satisfied: twine in /home/alvarocg/.pyenv/versions/3.8.6/envs/MRIsegmentation/lib/python3.8/site-packages (from MRIsegmentation==1.0) (3.4.1)\n",
      "Requirement already satisfied: wheel>=0.29 in /home/alvarocg/.pyenv/versions/3.8.6/envs/MRIsegmentation/lib/python3.8/site-packages (from MRIsegmentation==1.0) (0.36.2)\n",
      "Requirement already satisfied: numpy in /home/alvarocg/.pyenv/versions/3.8.6/envs/MRIsegmentation/lib/python3.8/site-packages (from MRIsegmentation==1.0) (1.19.5)\n",
      "Requirement already satisfied: pandas in /home/alvarocg/.pyenv/versions/3.8.6/envs/MRIsegmentation/lib/python3.8/site-packages (from MRIsegmentation==1.0) (1.2.5)\n",
      "Requirement already satisfied: scikit-learn in /home/alvarocg/.pyenv/versions/3.8.6/envs/MRIsegmentation/lib/python3.8/site-packages (from MRIsegmentation==1.0) (0.24.2)\n",
      "Requirement already satisfied: tensorflow in /home/alvarocg/.pyenv/versions/3.8.6/envs/MRIsegmentation/lib/python3.8/site-packages (from MRIsegmentation==1.0) (2.5.0)\n",
      "Requirement already satisfied: tensorflow-io in /home/alvarocg/.pyenv/versions/3.8.6/envs/MRIsegmentation/lib/python3.8/site-packages (from MRIsegmentation==1.0) (0.19.0)\n",
      "Requirement already satisfied: tensorflow-addons in /home/alvarocg/.pyenv/versions/3.8.6/envs/MRIsegmentation/lib/python3.8/site-packages (from MRIsegmentation==1.0) (0.13.0)\n",
      "Requirement already satisfied: black in /home/alvarocg/.pyenv/versions/3.8.6/envs/MRIsegmentation/lib/python3.8/site-packages (from MRIsegmentation==1.0) (21.6b0)\n",
      "Requirement already satisfied: coverage in /home/alvarocg/.pyenv/versions/3.8.6/envs/MRIsegmentation/lib/python3.8/site-packages (from MRIsegmentation==1.0) (5.5)\n",
      "Requirement already satisfied: flake8 in /home/alvarocg/.pyenv/versions/3.8.6/envs/MRIsegmentation/lib/python3.8/site-packages (from MRIsegmentation==1.0) (3.9.2)\n",
      "Requirement already satisfied: pytest in /home/alvarocg/.pyenv/versions/3.8.6/envs/MRIsegmentation/lib/python3.8/site-packages (from MRIsegmentation==1.0) (6.2.4)\n",
      "Requirement already satisfied: yapf in /home/alvarocg/.pyenv/versions/3.8.6/envs/MRIsegmentation/lib/python3.8/site-packages (from MRIsegmentation==1.0) (0.31.0)\n",
      "Requirement already satisfied: gcsfs in /home/alvarocg/.pyenv/versions/3.8.6/envs/MRIsegmentation/lib/python3.8/site-packages (from MRIsegmentation==1.0) (2021.6.1)\n",
      "Requirement already satisfied: google-cloud-storage in /home/alvarocg/.pyenv/versions/3.8.6/envs/MRIsegmentation/lib/python3.8/site-packages (from MRIsegmentation==1.0) (1.39.0)\n",
      "Requirement already satisfied: mlflow in /home/alvarocg/.pyenv/versions/3.8.6/envs/MRIsegmentation/lib/python3.8/site-packages (from MRIsegmentation==1.0) (1.18.0)\n",
      "Requirement already satisfied: s3fs in /home/alvarocg/.pyenv/versions/3.8.6/envs/MRIsegmentation/lib/python3.8/site-packages (from MRIsegmentation==1.0) (2021.6.1)\n",
      "Requirement already satisfied: six>=1.14 in /home/alvarocg/.pyenv/versions/3.8.6/envs/MRIsegmentation/lib/python3.8/site-packages (from MRIsegmentation==1.0) (1.15.0)\n",
      "Requirement already satisfied: joblib in /home/alvarocg/.pyenv/versions/3.8.6/envs/MRIsegmentation/lib/python3.8/site-packages (from MRIsegmentation==1.0) (1.0.1)\n",
      "Requirement already satisfied: memoized-property in /home/alvarocg/.pyenv/versions/3.8.6/envs/MRIsegmentation/lib/python3.8/site-packages (from MRIsegmentation==1.0) (1.0.3)\n",
      "Requirement already satisfied: termcolor in /home/alvarocg/.pyenv/versions/3.8.6/envs/MRIsegmentation/lib/python3.8/site-packages (from MRIsegmentation==1.0) (1.1.0)\n",
      "Requirement already satisfied: regex>=2020.1.8 in /home/alvarocg/.pyenv/versions/3.8.6/envs/MRIsegmentation/lib/python3.8/site-packages (from black->MRIsegmentation==1.0) (2021.4.4)\n",
      "Requirement already satisfied: appdirs in /home/alvarocg/.pyenv/versions/3.8.6/envs/MRIsegmentation/lib/python3.8/site-packages (from black->MRIsegmentation==1.0) (1.4.4)\n",
      "Requirement already satisfied: pathspec<1,>=0.8.1 in /home/alvarocg/.pyenv/versions/3.8.6/envs/MRIsegmentation/lib/python3.8/site-packages (from black->MRIsegmentation==1.0) (0.8.1)\n",
      "Requirement already satisfied: mypy-extensions>=0.4.3 in /home/alvarocg/.pyenv/versions/3.8.6/envs/MRIsegmentation/lib/python3.8/site-packages (from black->MRIsegmentation==1.0) (0.4.3)\n",
      "Requirement already satisfied: toml>=0.10.1 in /home/alvarocg/.pyenv/versions/3.8.6/envs/MRIsegmentation/lib/python3.8/site-packages (from black->MRIsegmentation==1.0) (0.10.2)\n",
      "Requirement already satisfied: click>=7.1.2 in /home/alvarocg/.pyenv/versions/3.8.6/envs/MRIsegmentation/lib/python3.8/site-packages (from black->MRIsegmentation==1.0) (8.0.1)\n",
      "Requirement already satisfied: mccabe<0.7.0,>=0.6.0 in /home/alvarocg/.pyenv/versions/3.8.6/envs/MRIsegmentation/lib/python3.8/site-packages (from flake8->MRIsegmentation==1.0) (0.6.1)\n",
      "Requirement already satisfied: pycodestyle<2.8.0,>=2.7.0 in /home/alvarocg/.pyenv/versions/3.8.6/envs/MRIsegmentation/lib/python3.8/site-packages (from flake8->MRIsegmentation==1.0) (2.7.0)\n",
      "Requirement already satisfied: pyflakes<2.4.0,>=2.3.0 in /home/alvarocg/.pyenv/versions/3.8.6/envs/MRIsegmentation/lib/python3.8/site-packages (from flake8->MRIsegmentation==1.0) (2.3.1)\n",
      "Requirement already satisfied: aiohttp in /home/alvarocg/.pyenv/versions/3.8.6/envs/MRIsegmentation/lib/python3.8/site-packages (from gcsfs->MRIsegmentation==1.0) (3.7.4.post0)\n",
      "Requirement already satisfied: google-auth>=1.2 in /home/alvarocg/.pyenv/versions/3.8.6/envs/MRIsegmentation/lib/python3.8/site-packages (from gcsfs->MRIsegmentation==1.0) (1.32.0)\n",
      "Requirement already satisfied: fsspec==2021.06.1 in /home/alvarocg/.pyenv/versions/3.8.6/envs/MRIsegmentation/lib/python3.8/site-packages (from gcsfs->MRIsegmentation==1.0) (2021.6.1)\n",
      "Requirement already satisfied: requests in /home/alvarocg/.pyenv/versions/3.8.6/envs/MRIsegmentation/lib/python3.8/site-packages (from gcsfs->MRIsegmentation==1.0) (2.25.1)\n",
      "Requirement already satisfied: google-auth-oauthlib in /home/alvarocg/.pyenv/versions/3.8.6/envs/MRIsegmentation/lib/python3.8/site-packages (from gcsfs->MRIsegmentation==1.0) (0.4.4)\n",
      "Requirement already satisfied: decorator in /home/alvarocg/.pyenv/versions/3.8.6/envs/MRIsegmentation/lib/python3.8/site-packages (from gcsfs->MRIsegmentation==1.0) (4.4.2)\n",
      "Requirement already satisfied: cachetools<5.0,>=2.0.0 in /home/alvarocg/.pyenv/versions/3.8.6/envs/MRIsegmentation/lib/python3.8/site-packages (from google-auth>=1.2->gcsfs->MRIsegmentation==1.0) (4.2.2)\n",
      "Requirement already satisfied: pyasn1-modules>=0.2.1 in /home/alvarocg/.pyenv/versions/3.8.6/envs/MRIsegmentation/lib/python3.8/site-packages (from google-auth>=1.2->gcsfs->MRIsegmentation==1.0) (0.2.8)\n",
      "Requirement already satisfied: rsa<5,>=3.1.4 in /home/alvarocg/.pyenv/versions/3.8.6/envs/MRIsegmentation/lib/python3.8/site-packages (from google-auth>=1.2->gcsfs->MRIsegmentation==1.0) (4.7.2)\n",
      "Requirement already satisfied: pyasn1<0.5.0,>=0.4.6 in /home/alvarocg/.pyenv/versions/3.8.6/envs/MRIsegmentation/lib/python3.8/site-packages (from pyasn1-modules>=0.2.1->google-auth>=1.2->gcsfs->MRIsegmentation==1.0) (0.4.8)\n",
      "Requirement already satisfied: yarl<2.0,>=1.0 in /home/alvarocg/.pyenv/versions/3.8.6/envs/MRIsegmentation/lib/python3.8/site-packages (from aiohttp->gcsfs->MRIsegmentation==1.0) (1.6.3)\n",
      "Requirement already satisfied: chardet<5.0,>=2.0 in /home/alvarocg/.pyenv/versions/3.8.6/envs/MRIsegmentation/lib/python3.8/site-packages (from aiohttp->gcsfs->MRIsegmentation==1.0) (4.0.0)\n",
      "Requirement already satisfied: attrs>=17.3.0 in /home/alvarocg/.pyenv/versions/3.8.6/envs/MRIsegmentation/lib/python3.8/site-packages (from aiohttp->gcsfs->MRIsegmentation==1.0) (21.2.0)\n",
      "Requirement already satisfied: typing-extensions>=3.6.5 in /home/alvarocg/.pyenv/versions/3.8.6/envs/MRIsegmentation/lib/python3.8/site-packages (from aiohttp->gcsfs->MRIsegmentation==1.0) (3.7.4.3)\n",
      "Requirement already satisfied: multidict<7.0,>=4.5 in /home/alvarocg/.pyenv/versions/3.8.6/envs/MRIsegmentation/lib/python3.8/site-packages (from aiohttp->gcsfs->MRIsegmentation==1.0) (5.1.0)\n",
      "Requirement already satisfied: async-timeout<4.0,>=3.0 in /home/alvarocg/.pyenv/versions/3.8.6/envs/MRIsegmentation/lib/python3.8/site-packages (from aiohttp->gcsfs->MRIsegmentation==1.0) (3.0.1)\n",
      "Requirement already satisfied: idna>=2.0 in /home/alvarocg/.pyenv/versions/3.8.6/envs/MRIsegmentation/lib/python3.8/site-packages (from yarl<2.0,>=1.0->aiohttp->gcsfs->MRIsegmentation==1.0) (2.10)\n",
      "Requirement already satisfied: requests-oauthlib>=0.7.0 in /home/alvarocg/.pyenv/versions/3.8.6/envs/MRIsegmentation/lib/python3.8/site-packages (from google-auth-oauthlib->gcsfs->MRIsegmentation==1.0) (1.3.0)\n",
      "Requirement already satisfied: oauthlib>=3.0.0 in /home/alvarocg/.pyenv/versions/3.8.6/envs/MRIsegmentation/lib/python3.8/site-packages (from requests-oauthlib>=0.7.0->google-auth-oauthlib->gcsfs->MRIsegmentation==1.0) (3.1.1)\n",
      "Requirement already satisfied: urllib3<1.27,>=1.21.1 in /home/alvarocg/.pyenv/versions/3.8.6/envs/MRIsegmentation/lib/python3.8/site-packages (from requests->gcsfs->MRIsegmentation==1.0) (1.26.6)\n",
      "Requirement already satisfied: certifi>=2017.4.17 in /home/alvarocg/.pyenv/versions/3.8.6/envs/MRIsegmentation/lib/python3.8/site-packages (from requests->gcsfs->MRIsegmentation==1.0) (2021.5.30)\n",
      "Requirement already satisfied: google-resumable-media<2.0dev,>=1.3.0 in /home/alvarocg/.pyenv/versions/3.8.6/envs/MRIsegmentation/lib/python3.8/site-packages (from google-cloud-storage->MRIsegmentation==1.0) (1.3.1)\n",
      "Requirement already satisfied: google-cloud-core<2.0dev,>=1.4.1 in /home/alvarocg/.pyenv/versions/3.8.6/envs/MRIsegmentation/lib/python3.8/site-packages (from google-cloud-storage->MRIsegmentation==1.0) (1.7.1)\n",
      "Requirement already satisfied: google-api-core<2.0.0dev,>=1.21.0 in /home/alvarocg/.pyenv/versions/3.8.6/envs/MRIsegmentation/lib/python3.8/site-packages (from google-cloud-core<2.0dev,>=1.4.1->google-cloud-storage->MRIsegmentation==1.0) (1.30.0)\n",
      "Requirement already satisfied: protobuf>=3.12.0 in /home/alvarocg/.pyenv/versions/3.8.6/envs/MRIsegmentation/lib/python3.8/site-packages (from google-api-core<2.0.0dev,>=1.21.0->google-cloud-core<2.0dev,>=1.4.1->google-cloud-storage->MRIsegmentation==1.0) (3.17.3)\n",
      "Requirement already satisfied: googleapis-common-protos<2.0dev,>=1.6.0 in /home/alvarocg/.pyenv/versions/3.8.6/envs/MRIsegmentation/lib/python3.8/site-packages (from google-api-core<2.0.0dev,>=1.21.0->google-cloud-core<2.0dev,>=1.4.1->google-cloud-storage->MRIsegmentation==1.0) (1.53.0)\n",
      "Requirement already satisfied: packaging>=14.3 in /home/alvarocg/.pyenv/versions/3.8.6/envs/MRIsegmentation/lib/python3.8/site-packages (from google-api-core<2.0.0dev,>=1.21.0->google-cloud-core<2.0dev,>=1.4.1->google-cloud-storage->MRIsegmentation==1.0) (20.9)\n",
      "Requirement already satisfied: pytz in /home/alvarocg/.pyenv/versions/3.8.6/envs/MRIsegmentation/lib/python3.8/site-packages (from google-api-core<2.0.0dev,>=1.21.0->google-cloud-core<2.0dev,>=1.4.1->google-cloud-storage->MRIsegmentation==1.0) (2021.1)\n",
      "Requirement already satisfied: google-crc32c<2.0dev,>=1.0 in /home/alvarocg/.pyenv/versions/3.8.6/envs/MRIsegmentation/lib/python3.8/site-packages (from google-resumable-media<2.0dev,>=1.3.0->google-cloud-storage->MRIsegmentation==1.0) (1.1.2)\n",
      "Requirement already satisfied: cffi>=1.0.0 in /home/alvarocg/.pyenv/versions/3.8.6/envs/MRIsegmentation/lib/python3.8/site-packages (from google-crc32c<2.0dev,>=1.0->google-resumable-media<2.0dev,>=1.3.0->google-cloud-storage->MRIsegmentation==1.0) (1.14.5)\n",
      "Requirement already satisfied: pycparser in /home/alvarocg/.pyenv/versions/3.8.6/envs/MRIsegmentation/lib/python3.8/site-packages (from cffi>=1.0.0->google-crc32c<2.0dev,>=1.0->google-resumable-media<2.0dev,>=1.3.0->google-cloud-storage->MRIsegmentation==1.0) (2.20)\n",
      "Requirement already satisfied: pyparsing>=2.0.2 in /home/alvarocg/.pyenv/versions/3.8.6/envs/MRIsegmentation/lib/python3.8/site-packages (from packaging>=14.3->google-api-core<2.0.0dev,>=1.21.0->google-cloud-core<2.0dev,>=1.4.1->google-cloud-storage->MRIsegmentation==1.0) (2.4.7)\n",
      "Requirement already satisfied: alembic<=1.4.1 in /home/alvarocg/.pyenv/versions/3.8.6/envs/MRIsegmentation/lib/python3.8/site-packages (from mlflow->MRIsegmentation==1.0) (1.4.1)\n",
      "Requirement already satisfied: Flask in /home/alvarocg/.pyenv/versions/3.8.6/envs/MRIsegmentation/lib/python3.8/site-packages (from mlflow->MRIsegmentation==1.0) (2.0.1)\n",
      "Requirement already satisfied: entrypoints in /home/alvarocg/.pyenv/versions/3.8.6/envs/MRIsegmentation/lib/python3.8/site-packages (from mlflow->MRIsegmentation==1.0) (0.3)\n",
      "Requirement already satisfied: sqlparse>=0.3.1 in /home/alvarocg/.pyenv/versions/3.8.6/envs/MRIsegmentation/lib/python3.8/site-packages (from mlflow->MRIsegmentation==1.0) (0.4.1)\n",
      "Requirement already satisfied: sqlalchemy in /home/alvarocg/.pyenv/versions/3.8.6/envs/MRIsegmentation/lib/python3.8/site-packages (from mlflow->MRIsegmentation==1.0) (1.4.20)\n",
      "Requirement already satisfied: pyyaml>=5.1 in /home/alvarocg/.pyenv/versions/3.8.6/envs/MRIsegmentation/lib/python3.8/site-packages (from mlflow->MRIsegmentation==1.0) (5.4.1)\n",
      "Requirement already satisfied: docker>=4.0.0 in /home/alvarocg/.pyenv/versions/3.8.6/envs/MRIsegmentation/lib/python3.8/site-packages (from mlflow->MRIsegmentation==1.0) (5.0.0)\n",
      "Requirement already satisfied: gitpython>=2.1.0 in /home/alvarocg/.pyenv/versions/3.8.6/envs/MRIsegmentation/lib/python3.8/site-packages (from mlflow->MRIsegmentation==1.0) (3.1.18)\n",
      "Requirement already satisfied: prometheus-flask-exporter in /home/alvarocg/.pyenv/versions/3.8.6/envs/MRIsegmentation/lib/python3.8/site-packages (from mlflow->MRIsegmentation==1.0) (0.18.2)\n",
      "Requirement already satisfied: cloudpickle in /home/alvarocg/.pyenv/versions/3.8.6/envs/MRIsegmentation/lib/python3.8/site-packages (from mlflow->MRIsegmentation==1.0) (1.6.0)\n",
      "Requirement already satisfied: gunicorn in /home/alvarocg/.pyenv/versions/3.8.6/envs/MRIsegmentation/lib/python3.8/site-packages (from mlflow->MRIsegmentation==1.0) (20.1.0)\n",
      "Requirement already satisfied: databricks-cli>=0.8.7 in /home/alvarocg/.pyenv/versions/3.8.6/envs/MRIsegmentation/lib/python3.8/site-packages (from mlflow->MRIsegmentation==1.0) (0.14.3)\n",
      "Requirement already satisfied: querystring-parser in /home/alvarocg/.pyenv/versions/3.8.6/envs/MRIsegmentation/lib/python3.8/site-packages (from mlflow->MRIsegmentation==1.0) (1.2.4)\n",
      "Requirement already satisfied: python-editor>=0.3 in /home/alvarocg/.pyenv/versions/3.8.6/envs/MRIsegmentation/lib/python3.8/site-packages (from alembic<=1.4.1->mlflow->MRIsegmentation==1.0) (1.0.4)\n",
      "Requirement already satisfied: python-dateutil in /home/alvarocg/.pyenv/versions/3.8.6/envs/MRIsegmentation/lib/python3.8/site-packages (from alembic<=1.4.1->mlflow->MRIsegmentation==1.0) (2.8.1)\n",
      "Requirement already satisfied: Mako in /home/alvarocg/.pyenv/versions/3.8.6/envs/MRIsegmentation/lib/python3.8/site-packages (from alembic<=1.4.1->mlflow->MRIsegmentation==1.0) (1.1.4)\n",
      "Requirement already satisfied: tabulate>=0.7.7 in /home/alvarocg/.pyenv/versions/3.8.6/envs/MRIsegmentation/lib/python3.8/site-packages (from databricks-cli>=0.8.7->mlflow->MRIsegmentation==1.0) (0.8.9)\n",
      "Requirement already satisfied: websocket-client>=0.32.0 in /home/alvarocg/.pyenv/versions/3.8.6/envs/MRIsegmentation/lib/python3.8/site-packages (from docker>=4.0.0->mlflow->MRIsegmentation==1.0) (1.1.0)\n",
      "Requirement already satisfied: gitdb<5,>=4.0.1 in /home/alvarocg/.pyenv/versions/3.8.6/envs/MRIsegmentation/lib/python3.8/site-packages (from gitpython>=2.1.0->mlflow->MRIsegmentation==1.0) (4.0.7)\n",
      "Requirement already satisfied: smmap<5,>=3.0.1 in /home/alvarocg/.pyenv/versions/3.8.6/envs/MRIsegmentation/lib/python3.8/site-packages (from gitdb<5,>=4.0.1->gitpython>=2.1.0->mlflow->MRIsegmentation==1.0) (4.0.0)\n",
      "Requirement already satisfied: greenlet!=0.4.17 in /home/alvarocg/.pyenv/versions/3.8.6/envs/MRIsegmentation/lib/python3.8/site-packages (from sqlalchemy->mlflow->MRIsegmentation==1.0) (1.1.0)\n",
      "Requirement already satisfied: Jinja2>=3.0 in /home/alvarocg/.pyenv/versions/3.8.6/envs/MRIsegmentation/lib/python3.8/site-packages (from Flask->mlflow->MRIsegmentation==1.0) (3.0.1)\n",
      "Requirement already satisfied: Werkzeug>=2.0 in /home/alvarocg/.pyenv/versions/3.8.6/envs/MRIsegmentation/lib/python3.8/site-packages (from Flask->mlflow->MRIsegmentation==1.0) (2.0.1)\n",
      "Requirement already satisfied: itsdangerous>=2.0 in /home/alvarocg/.pyenv/versions/3.8.6/envs/MRIsegmentation/lib/python3.8/site-packages (from Flask->mlflow->MRIsegmentation==1.0) (2.0.1)\n",
      "Requirement already satisfied: MarkupSafe>=2.0 in /home/alvarocg/.pyenv/versions/3.8.6/envs/MRIsegmentation/lib/python3.8/site-packages (from Jinja2>=3.0->Flask->mlflow->MRIsegmentation==1.0) (2.0.1)\n",
      "Requirement already satisfied: prometheus-client in /home/alvarocg/.pyenv/versions/3.8.6/envs/MRIsegmentation/lib/python3.8/site-packages (from prometheus-flask-exporter->mlflow->MRIsegmentation==1.0) (0.11.0)\n",
      "Requirement already satisfied: py>=1.8.2 in /home/alvarocg/.pyenv/versions/3.8.6/envs/MRIsegmentation/lib/python3.8/site-packages (from pytest->MRIsegmentation==1.0) (1.10.0)\n",
      "Requirement already satisfied: iniconfig in /home/alvarocg/.pyenv/versions/3.8.6/envs/MRIsegmentation/lib/python3.8/site-packages (from pytest->MRIsegmentation==1.0) (1.1.1)\n",
      "Requirement already satisfied: pluggy<1.0.0a1,>=0.12 in /home/alvarocg/.pyenv/versions/3.8.6/envs/MRIsegmentation/lib/python3.8/site-packages (from pytest->MRIsegmentation==1.0) (0.13.1)\n",
      "Requirement already satisfied: aiobotocore>=1.0.1 in /home/alvarocg/.pyenv/versions/3.8.6/envs/MRIsegmentation/lib/python3.8/site-packages (from s3fs->MRIsegmentation==1.0) (1.3.1)\n",
      "Requirement already satisfied: botocore<1.20.50,>=1.20.49 in /home/alvarocg/.pyenv/versions/3.8.6/envs/MRIsegmentation/lib/python3.8/site-packages (from aiobotocore>=1.0.1->s3fs->MRIsegmentation==1.0) (1.20.49)\n",
      "Requirement already satisfied: wrapt>=1.10.10 in /home/alvarocg/.pyenv/versions/3.8.6/envs/MRIsegmentation/lib/python3.8/site-packages (from aiobotocore>=1.0.1->s3fs->MRIsegmentation==1.0) (1.12.1)\n",
      "Requirement already satisfied: aioitertools>=0.5.1 in /home/alvarocg/.pyenv/versions/3.8.6/envs/MRIsegmentation/lib/python3.8/site-packages (from aiobotocore>=1.0.1->s3fs->MRIsegmentation==1.0) (0.7.1)\n",
      "Requirement already satisfied: jmespath<1.0.0,>=0.7.1 in /home/alvarocg/.pyenv/versions/3.8.6/envs/MRIsegmentation/lib/python3.8/site-packages (from botocore<1.20.50,>=1.20.49->aiobotocore>=1.0.1->s3fs->MRIsegmentation==1.0) (0.10.0)\n",
      "Requirement already satisfied: scipy>=0.19.1 in /home/alvarocg/.pyenv/versions/3.8.6/envs/MRIsegmentation/lib/python3.8/site-packages (from scikit-learn->MRIsegmentation==1.0) (1.7.0)\n",
      "Requirement already satisfied: threadpoolctl>=2.0.0 in /home/alvarocg/.pyenv/versions/3.8.6/envs/MRIsegmentation/lib/python3.8/site-packages (from scikit-learn->MRIsegmentation==1.0) (2.1.0)\n",
      "Requirement already satisfied: tensorboard~=2.5 in /home/alvarocg/.pyenv/versions/3.8.6/envs/MRIsegmentation/lib/python3.8/site-packages (from tensorflow->MRIsegmentation==1.0) (2.5.0)\n",
      "Requirement already satisfied: keras-preprocessing~=1.1.2 in /home/alvarocg/.pyenv/versions/3.8.6/envs/MRIsegmentation/lib/python3.8/site-packages (from tensorflow->MRIsegmentation==1.0) (1.1.2)\n",
      "Requirement already satisfied: grpcio~=1.34.0 in /home/alvarocg/.pyenv/versions/3.8.6/envs/MRIsegmentation/lib/python3.8/site-packages (from tensorflow->MRIsegmentation==1.0) (1.34.1)\n",
      "Requirement already satisfied: google-pasta~=0.2 in /home/alvarocg/.pyenv/versions/3.8.6/envs/MRIsegmentation/lib/python3.8/site-packages (from tensorflow->MRIsegmentation==1.0) (0.2.0)\n",
      "Requirement already satisfied: flatbuffers~=1.12.0 in /home/alvarocg/.pyenv/versions/3.8.6/envs/MRIsegmentation/lib/python3.8/site-packages (from tensorflow->MRIsegmentation==1.0) (1.12)\n",
      "Requirement already satisfied: tensorflow-estimator<2.6.0,>=2.5.0rc0 in /home/alvarocg/.pyenv/versions/3.8.6/envs/MRIsegmentation/lib/python3.8/site-packages (from tensorflow->MRIsegmentation==1.0) (2.5.0)\n",
      "Requirement already satisfied: opt-einsum~=3.3.0 in /home/alvarocg/.pyenv/versions/3.8.6/envs/MRIsegmentation/lib/python3.8/site-packages (from tensorflow->MRIsegmentation==1.0) (3.3.0)\n",
      "Requirement already satisfied: keras-nightly~=2.5.0.dev in /home/alvarocg/.pyenv/versions/3.8.6/envs/MRIsegmentation/lib/python3.8/site-packages (from tensorflow->MRIsegmentation==1.0) (2.5.0.dev2021032900)\n",
      "Requirement already satisfied: astunparse~=1.6.3 in /home/alvarocg/.pyenv/versions/3.8.6/envs/MRIsegmentation/lib/python3.8/site-packages (from tensorflow->MRIsegmentation==1.0) (1.6.3)\n",
      "Requirement already satisfied: absl-py~=0.10 in /home/alvarocg/.pyenv/versions/3.8.6/envs/MRIsegmentation/lib/python3.8/site-packages (from tensorflow->MRIsegmentation==1.0) (0.13.0)\n",
      "Requirement already satisfied: gast==0.4.0 in /home/alvarocg/.pyenv/versions/3.8.6/envs/MRIsegmentation/lib/python3.8/site-packages (from tensorflow->MRIsegmentation==1.0) (0.4.0)\n",
      "Requirement already satisfied: h5py~=3.1.0 in /home/alvarocg/.pyenv/versions/3.8.6/envs/MRIsegmentation/lib/python3.8/site-packages (from tensorflow->MRIsegmentation==1.0) (3.1.0)\n",
      "Requirement already satisfied: tensorboard-plugin-wit>=1.6.0 in /home/alvarocg/.pyenv/versions/3.8.6/envs/MRIsegmentation/lib/python3.8/site-packages (from tensorboard~=2.5->tensorflow->MRIsegmentation==1.0) (1.8.0)\n",
      "Requirement already satisfied: tensorboard-data-server<0.7.0,>=0.6.0 in /home/alvarocg/.pyenv/versions/3.8.6/envs/MRIsegmentation/lib/python3.8/site-packages (from tensorboard~=2.5->tensorflow->MRIsegmentation==1.0) (0.6.1)\n",
      "Requirement already satisfied: markdown>=2.6.8 in /home/alvarocg/.pyenv/versions/3.8.6/envs/MRIsegmentation/lib/python3.8/site-packages (from tensorboard~=2.5->tensorflow->MRIsegmentation==1.0) (3.3.4)\n",
      "Requirement already satisfied: typeguard>=2.7 in /home/alvarocg/.pyenv/versions/3.8.6/envs/MRIsegmentation/lib/python3.8/site-packages (from tensorflow-addons->MRIsegmentation==1.0) (2.12.1)\n",
      "Requirement already satisfied: tensorflow-io-gcs-filesystem==0.19.0 in /home/alvarocg/.pyenv/versions/3.8.6/envs/MRIsegmentation/lib/python3.8/site-packages (from tensorflow-io->MRIsegmentation==1.0) (0.19.0)\n",
      "Requirement already satisfied: requests-toolbelt!=0.9.0,>=0.8.0 in /home/alvarocg/.pyenv/versions/3.8.6/envs/MRIsegmentation/lib/python3.8/site-packages (from twine->MRIsegmentation==1.0) (0.9.1)\n",
      "Requirement already satisfied: keyring>=15.1 in /home/alvarocg/.pyenv/versions/3.8.6/envs/MRIsegmentation/lib/python3.8/site-packages (from twine->MRIsegmentation==1.0) (23.0.1)\n",
      "Requirement already satisfied: tqdm>=4.14 in /home/alvarocg/.pyenv/versions/3.8.6/envs/MRIsegmentation/lib/python3.8/site-packages (from twine->MRIsegmentation==1.0) (4.61.1)\n",
      "Requirement already satisfied: colorama>=0.4.3 in /home/alvarocg/.pyenv/versions/3.8.6/envs/MRIsegmentation/lib/python3.8/site-packages (from twine->MRIsegmentation==1.0) (0.4.4)\n",
      "Requirement already satisfied: rfc3986>=1.4.0 in /home/alvarocg/.pyenv/versions/3.8.6/envs/MRIsegmentation/lib/python3.8/site-packages (from twine->MRIsegmentation==1.0) (1.5.0)\n",
      "Requirement already satisfied: importlib-metadata>=3.6 in /home/alvarocg/.pyenv/versions/3.8.6/envs/MRIsegmentation/lib/python3.8/site-packages (from twine->MRIsegmentation==1.0) (4.6.0)\n",
      "Requirement already satisfied: readme-renderer>=21.0 in /home/alvarocg/.pyenv/versions/3.8.6/envs/MRIsegmentation/lib/python3.8/site-packages (from twine->MRIsegmentation==1.0) (29.0)\n",
      "Requirement already satisfied: pkginfo>=1.4.2 in /home/alvarocg/.pyenv/versions/3.8.6/envs/MRIsegmentation/lib/python3.8/site-packages (from twine->MRIsegmentation==1.0) (1.7.0)\n",
      "Requirement already satisfied: zipp>=0.5 in /home/alvarocg/.pyenv/versions/3.8.6/envs/MRIsegmentation/lib/python3.8/site-packages (from importlib-metadata>=3.6->twine->MRIsegmentation==1.0) (3.4.1)\n",
      "Requirement already satisfied: SecretStorage>=3.2 in /home/alvarocg/.pyenv/versions/3.8.6/envs/MRIsegmentation/lib/python3.8/site-packages (from keyring>=15.1->twine->MRIsegmentation==1.0) (3.3.1)\n",
      "Requirement already satisfied: jeepney>=0.4.2 in /home/alvarocg/.pyenv/versions/3.8.6/envs/MRIsegmentation/lib/python3.8/site-packages (from keyring>=15.1->twine->MRIsegmentation==1.0) (0.6.0)\n",
      "Requirement already satisfied: docutils>=0.13.1 in /home/alvarocg/.pyenv/versions/3.8.6/envs/MRIsegmentation/lib/python3.8/site-packages (from readme-renderer>=21.0->twine->MRIsegmentation==1.0) (0.17.1)\n",
      "Requirement already satisfied: Pygments>=2.5.1 in /home/alvarocg/.pyenv/versions/3.8.6/envs/MRIsegmentation/lib/python3.8/site-packages (from readme-renderer>=21.0->twine->MRIsegmentation==1.0) (2.9.0)\n",
      "Requirement already satisfied: bleach>=2.1.0 in /home/alvarocg/.pyenv/versions/3.8.6/envs/MRIsegmentation/lib/python3.8/site-packages (from readme-renderer>=21.0->twine->MRIsegmentation==1.0) (3.3.0)\n",
      "Requirement already satisfied: webencodings in /home/alvarocg/.pyenv/versions/3.8.6/envs/MRIsegmentation/lib/python3.8/site-packages (from bleach>=2.1.0->readme-renderer>=21.0->twine->MRIsegmentation==1.0) (0.5.1)\n",
      "Requirement already satisfied: cryptography>=2.0 in /home/alvarocg/.pyenv/versions/3.8.6/envs/MRIsegmentation/lib/python3.8/site-packages (from SecretStorage>=3.2->keyring>=15.1->twine->MRIsegmentation==1.0) (3.4.7)\n",
      "Building wheels for collected packages: MRIsegmentation\n",
      "  Building wheel for MRIsegmentation (setup.py) ... \u001b[?25ldone\n",
      "\u001b[?25h  Created wheel for MRIsegmentation: filename=MRIsegmentation-1.0-py3-none-any.whl size=9541 sha256=85181d606a17d172b3e4a24a3528f33fcf9e677d893380d4a2a691c3cf1085f1\n",
      "  Stored in directory: /tmp/pip-ephem-wheel-cache-unyqpgpu/wheels/0e/d0/1f/1ee3d330eff737ab2b3d640bb9bd21c68fb46063228a5f6fa3\n",
      "Successfully built MRIsegmentation\n",
      "Installing collected packages: MRIsegmentation\n",
      "Successfully installed MRIsegmentation-1.0\n",
      "time: 4.01 s (started: 2021-07-06 09:51:10 +02:00)\n"
     ]
    }
   ],
   "source": [
    "! pip install git+https://github.com/sanpigh/MRIsegmentation.git@cleanup --upgrade"
   ]
  },
  {
   "cell_type": "code",
   "execution_count": 20,
   "id": "e7c99ecf-41b0-40fa-9bdb-f7e9e937264e",
   "metadata": {},
   "outputs": [
    {
     "name": "stdout",
     "output_type": "stream",
     "text": [
      "time: 841 µs (started: 2021-07-06 09:54:52 +02:00)\n"
     ]
    }
   ],
   "source": [
    "EXPERIMENT_NAME = \"[FR] [Bordeaux] [galleon] MRIsegmentation\"\n",
    "MLFLOW_URI = \"https://mlflow.lewagon.co\"\n",
    "BUCKET_NAME = \"galleon-mri\"\n",
    "BUCKET_DATA_PATH = \"kaggle_3m\"\n",
    "GDRIVE_DATA_PATH = \"/content/drive/MyDrive/MRIsegmentation/\""
   ]
  },
  {
   "cell_type": "code",
   "execution_count": 18,
   "id": "e7f32156-5531-478f-8210-dd08c358b316",
   "metadata": {},
   "outputs": [
    {
     "name": "stdout",
     "output_type": "stream",
     "text": [
      "time: 831 µs (started: 2021-07-06 09:54:12 +02:00)\n"
     ]
    }
   ],
   "source": [
    "import cv2\n",
    "import glob\n",
    "import logging\n",
    "import pandas as pd\n",
    "import numpy as np\n",
    "import os\n",
    "import random\n",
    "\n",
    "from sklearn.model_selection import train_test_split\n",
    "from google.cloud import storage\n",
    "import tensorflow as tf\n",
    "\n",
    "from MRIsegmentation.params import GDRIVE_DATA_PATH, BUCKET_NAME, BUCKET_DATA_PATH"
   ]
  },
  {
   "cell_type": "code",
   "execution_count": 121,
   "id": "75686e12-17ef-4d6c-9639-0c97bbaeece8",
   "metadata": {},
   "outputs": [
    {
     "name": "stdout",
     "output_type": "stream",
     "text": [
      "time: 1.33 ms (started: 2021-07-06 15:53:04 +02:00)\n"
     ]
    }
   ],
   "source": [
    "# from google.cloud import storage\n",
    "\n",
    "# from google.colab import drive\n",
    "# drive.mount('/content/drive')"
   ]
  },
  {
   "cell_type": "code",
   "execution_count": 132,
   "id": "49f3d947-6dca-4b87-bb0e-bead58f9d6a0",
   "metadata": {},
   "outputs": [
    {
     "ename": "FileNotFoundError",
     "evalue": "[Errno 2] No such file or directory: '/content/drive/MyDrive/MRIsegmentation//kaggle_3m/brain_df.csv'",
     "output_type": "error",
     "traceback": [
      "\u001b[0;31m---------------------------------------------------------------------------\u001b[0m",
      "\u001b[0;31mFileNotFoundError\u001b[0m                         Traceback (most recent call last)",
      "\u001b[0;32m<ipython-input-132-08194ebb45dc>\u001b[0m in \u001b[0;36m<module>\u001b[0;34m\u001b[0m\n\u001b[1;32m      5\u001b[0m \u001b[0;34m\u001b[0m\u001b[0m\n\u001b[1;32m      6\u001b[0m \u001b[0;34m\u001b[0m\u001b[0m\n\u001b[0;32m----> 7\u001b[0;31m \u001b[0mdf2\u001b[0m \u001b[0;34m=\u001b[0m \u001b[0mget_data_from_drive\u001b[0m\u001b[0;34m(\u001b[0m\u001b[0;34m)\u001b[0m\u001b[0;34m\u001b[0m\u001b[0;34m\u001b[0m\u001b[0m\n\u001b[0m\u001b[1;32m      8\u001b[0m \u001b[0mdf2\u001b[0m\u001b[0;34m\u001b[0m\u001b[0;34m\u001b[0m\u001b[0m\n",
      "\u001b[0;32m~/.pyenv/versions/3.8.6/envs/MRIsegmentation/lib/python3.8/site-packages/MRIsegmentation/data.py\u001b[0m in \u001b[0;36mget_data_from_drive\u001b[0;34m()\u001b[0m\n\u001b[1;32m     28\u001b[0m \u001b[0;34m\u001b[0m\u001b[0m\n\u001b[1;32m     29\u001b[0m \u001b[0;32mdef\u001b[0m \u001b[0mget_data_from_drive\u001b[0m\u001b[0;34m(\u001b[0m\u001b[0;34m)\u001b[0m\u001b[0;34m:\u001b[0m\u001b[0;34m\u001b[0m\u001b[0;34m\u001b[0m\u001b[0m\n\u001b[0;32m---> 30\u001b[0;31m     \u001b[0;32mreturn\u001b[0m \u001b[0mpd\u001b[0m\u001b[0;34m.\u001b[0m\u001b[0mread_csv\u001b[0m\u001b[0;34m(\u001b[0m\u001b[0mGDRIVE_DATA_PATH\u001b[0m \u001b[0;34m+\u001b[0m \u001b[0;34m\"/kaggle_3m/brain_df.csv\"\u001b[0m\u001b[0;34m)\u001b[0m\u001b[0;34m\u001b[0m\u001b[0;34m\u001b[0m\u001b[0m\n\u001b[0m\u001b[1;32m     31\u001b[0m \u001b[0;34m\u001b[0m\u001b[0m\n\u001b[1;32m     32\u001b[0m \u001b[0;34m\u001b[0m\u001b[0m\n",
      "\u001b[0;32m~/.pyenv/versions/3.8.6/envs/MRIsegmentation/lib/python3.8/site-packages/pandas/io/parsers.py\u001b[0m in \u001b[0;36mread_csv\u001b[0;34m(filepath_or_buffer, sep, delimiter, header, names, index_col, usecols, squeeze, prefix, mangle_dupe_cols, dtype, engine, converters, true_values, false_values, skipinitialspace, skiprows, skipfooter, nrows, na_values, keep_default_na, na_filter, verbose, skip_blank_lines, parse_dates, infer_datetime_format, keep_date_col, date_parser, dayfirst, cache_dates, iterator, chunksize, compression, thousands, decimal, lineterminator, quotechar, quoting, doublequote, escapechar, comment, encoding, dialect, error_bad_lines, warn_bad_lines, delim_whitespace, low_memory, memory_map, float_precision, storage_options)\u001b[0m\n\u001b[1;32m    608\u001b[0m     \u001b[0mkwds\u001b[0m\u001b[0;34m.\u001b[0m\u001b[0mupdate\u001b[0m\u001b[0;34m(\u001b[0m\u001b[0mkwds_defaults\u001b[0m\u001b[0;34m)\u001b[0m\u001b[0;34m\u001b[0m\u001b[0;34m\u001b[0m\u001b[0m\n\u001b[1;32m    609\u001b[0m \u001b[0;34m\u001b[0m\u001b[0m\n\u001b[0;32m--> 610\u001b[0;31m     \u001b[0;32mreturn\u001b[0m \u001b[0m_read\u001b[0m\u001b[0;34m(\u001b[0m\u001b[0mfilepath_or_buffer\u001b[0m\u001b[0;34m,\u001b[0m \u001b[0mkwds\u001b[0m\u001b[0;34m)\u001b[0m\u001b[0;34m\u001b[0m\u001b[0;34m\u001b[0m\u001b[0m\n\u001b[0m\u001b[1;32m    611\u001b[0m \u001b[0;34m\u001b[0m\u001b[0m\n\u001b[1;32m    612\u001b[0m \u001b[0;34m\u001b[0m\u001b[0m\n",
      "\u001b[0;32m~/.pyenv/versions/3.8.6/envs/MRIsegmentation/lib/python3.8/site-packages/pandas/io/parsers.py\u001b[0m in \u001b[0;36m_read\u001b[0;34m(filepath_or_buffer, kwds)\u001b[0m\n\u001b[1;32m    460\u001b[0m \u001b[0;34m\u001b[0m\u001b[0m\n\u001b[1;32m    461\u001b[0m     \u001b[0;31m# Create the parser.\u001b[0m\u001b[0;34m\u001b[0m\u001b[0;34m\u001b[0m\u001b[0;34m\u001b[0m\u001b[0m\n\u001b[0;32m--> 462\u001b[0;31m     \u001b[0mparser\u001b[0m \u001b[0;34m=\u001b[0m \u001b[0mTextFileReader\u001b[0m\u001b[0;34m(\u001b[0m\u001b[0mfilepath_or_buffer\u001b[0m\u001b[0;34m,\u001b[0m \u001b[0;34m**\u001b[0m\u001b[0mkwds\u001b[0m\u001b[0;34m)\u001b[0m\u001b[0;34m\u001b[0m\u001b[0;34m\u001b[0m\u001b[0m\n\u001b[0m\u001b[1;32m    463\u001b[0m \u001b[0;34m\u001b[0m\u001b[0m\n\u001b[1;32m    464\u001b[0m     \u001b[0;32mif\u001b[0m \u001b[0mchunksize\u001b[0m \u001b[0;32mor\u001b[0m \u001b[0miterator\u001b[0m\u001b[0;34m:\u001b[0m\u001b[0;34m\u001b[0m\u001b[0;34m\u001b[0m\u001b[0m\n",
      "\u001b[0;32m~/.pyenv/versions/3.8.6/envs/MRIsegmentation/lib/python3.8/site-packages/pandas/io/parsers.py\u001b[0m in \u001b[0;36m__init__\u001b[0;34m(self, f, engine, **kwds)\u001b[0m\n\u001b[1;32m    817\u001b[0m             \u001b[0mself\u001b[0m\u001b[0;34m.\u001b[0m\u001b[0moptions\u001b[0m\u001b[0;34m[\u001b[0m\u001b[0;34m\"has_index_names\"\u001b[0m\u001b[0;34m]\u001b[0m \u001b[0;34m=\u001b[0m \u001b[0mkwds\u001b[0m\u001b[0;34m[\u001b[0m\u001b[0;34m\"has_index_names\"\u001b[0m\u001b[0;34m]\u001b[0m\u001b[0;34m\u001b[0m\u001b[0;34m\u001b[0m\u001b[0m\n\u001b[1;32m    818\u001b[0m \u001b[0;34m\u001b[0m\u001b[0m\n\u001b[0;32m--> 819\u001b[0;31m         \u001b[0mself\u001b[0m\u001b[0;34m.\u001b[0m\u001b[0m_engine\u001b[0m \u001b[0;34m=\u001b[0m \u001b[0mself\u001b[0m\u001b[0;34m.\u001b[0m\u001b[0m_make_engine\u001b[0m\u001b[0;34m(\u001b[0m\u001b[0mself\u001b[0m\u001b[0;34m.\u001b[0m\u001b[0mengine\u001b[0m\u001b[0;34m)\u001b[0m\u001b[0;34m\u001b[0m\u001b[0;34m\u001b[0m\u001b[0m\n\u001b[0m\u001b[1;32m    820\u001b[0m \u001b[0;34m\u001b[0m\u001b[0m\n\u001b[1;32m    821\u001b[0m     \u001b[0;32mdef\u001b[0m \u001b[0mclose\u001b[0m\u001b[0;34m(\u001b[0m\u001b[0mself\u001b[0m\u001b[0;34m)\u001b[0m\u001b[0;34m:\u001b[0m\u001b[0;34m\u001b[0m\u001b[0;34m\u001b[0m\u001b[0m\n",
      "\u001b[0;32m~/.pyenv/versions/3.8.6/envs/MRIsegmentation/lib/python3.8/site-packages/pandas/io/parsers.py\u001b[0m in \u001b[0;36m_make_engine\u001b[0;34m(self, engine)\u001b[0m\n\u001b[1;32m   1048\u001b[0m             )\n\u001b[1;32m   1049\u001b[0m         \u001b[0;31m# error: Too many arguments for \"ParserBase\"\u001b[0m\u001b[0;34m\u001b[0m\u001b[0;34m\u001b[0m\u001b[0;34m\u001b[0m\u001b[0m\n\u001b[0;32m-> 1050\u001b[0;31m         \u001b[0;32mreturn\u001b[0m \u001b[0mmapping\u001b[0m\u001b[0;34m[\u001b[0m\u001b[0mengine\u001b[0m\u001b[0;34m]\u001b[0m\u001b[0;34m(\u001b[0m\u001b[0mself\u001b[0m\u001b[0;34m.\u001b[0m\u001b[0mf\u001b[0m\u001b[0;34m,\u001b[0m \u001b[0;34m**\u001b[0m\u001b[0mself\u001b[0m\u001b[0;34m.\u001b[0m\u001b[0moptions\u001b[0m\u001b[0;34m)\u001b[0m  \u001b[0;31m# type: ignore[call-arg]\u001b[0m\u001b[0;34m\u001b[0m\u001b[0;34m\u001b[0m\u001b[0m\n\u001b[0m\u001b[1;32m   1051\u001b[0m \u001b[0;34m\u001b[0m\u001b[0m\n\u001b[1;32m   1052\u001b[0m     \u001b[0;32mdef\u001b[0m \u001b[0m_failover_to_python\u001b[0m\u001b[0;34m(\u001b[0m\u001b[0mself\u001b[0m\u001b[0;34m)\u001b[0m\u001b[0;34m:\u001b[0m\u001b[0;34m\u001b[0m\u001b[0;34m\u001b[0m\u001b[0m\n",
      "\u001b[0;32m~/.pyenv/versions/3.8.6/envs/MRIsegmentation/lib/python3.8/site-packages/pandas/io/parsers.py\u001b[0m in \u001b[0;36m__init__\u001b[0;34m(self, src, **kwds)\u001b[0m\n\u001b[1;32m   1865\u001b[0m \u001b[0;34m\u001b[0m\u001b[0m\n\u001b[1;32m   1866\u001b[0m         \u001b[0;31m# open handles\u001b[0m\u001b[0;34m\u001b[0m\u001b[0;34m\u001b[0m\u001b[0;34m\u001b[0m\u001b[0m\n\u001b[0;32m-> 1867\u001b[0;31m         \u001b[0mself\u001b[0m\u001b[0;34m.\u001b[0m\u001b[0m_open_handles\u001b[0m\u001b[0;34m(\u001b[0m\u001b[0msrc\u001b[0m\u001b[0;34m,\u001b[0m \u001b[0mkwds\u001b[0m\u001b[0;34m)\u001b[0m\u001b[0;34m\u001b[0m\u001b[0;34m\u001b[0m\u001b[0m\n\u001b[0m\u001b[1;32m   1868\u001b[0m         \u001b[0;32massert\u001b[0m \u001b[0mself\u001b[0m\u001b[0;34m.\u001b[0m\u001b[0mhandles\u001b[0m \u001b[0;32mis\u001b[0m \u001b[0;32mnot\u001b[0m \u001b[0;32mNone\u001b[0m\u001b[0;34m\u001b[0m\u001b[0;34m\u001b[0m\u001b[0m\n\u001b[1;32m   1869\u001b[0m         \u001b[0;32mfor\u001b[0m \u001b[0mkey\u001b[0m \u001b[0;32min\u001b[0m \u001b[0;34m(\u001b[0m\u001b[0;34m\"storage_options\"\u001b[0m\u001b[0;34m,\u001b[0m \u001b[0;34m\"encoding\"\u001b[0m\u001b[0;34m,\u001b[0m \u001b[0;34m\"memory_map\"\u001b[0m\u001b[0;34m,\u001b[0m \u001b[0;34m\"compression\"\u001b[0m\u001b[0;34m)\u001b[0m\u001b[0;34m:\u001b[0m\u001b[0;34m\u001b[0m\u001b[0;34m\u001b[0m\u001b[0m\n",
      "\u001b[0;32m~/.pyenv/versions/3.8.6/envs/MRIsegmentation/lib/python3.8/site-packages/pandas/io/parsers.py\u001b[0m in \u001b[0;36m_open_handles\u001b[0;34m(self, src, kwds)\u001b[0m\n\u001b[1;32m   1360\u001b[0m         \u001b[0mLet\u001b[0m \u001b[0mthe\u001b[0m \u001b[0mreaders\u001b[0m \u001b[0mopen\u001b[0m \u001b[0mIOHanldes\u001b[0m \u001b[0mafter\u001b[0m \u001b[0mthey\u001b[0m \u001b[0mare\u001b[0m \u001b[0mdone\u001b[0m \u001b[0;32mwith\u001b[0m \u001b[0mtheir\u001b[0m \u001b[0mpotential\u001b[0m \u001b[0mraises\u001b[0m\u001b[0;34m.\u001b[0m\u001b[0;34m\u001b[0m\u001b[0;34m\u001b[0m\u001b[0m\n\u001b[1;32m   1361\u001b[0m         \"\"\"\n\u001b[0;32m-> 1362\u001b[0;31m         self.handles = get_handle(\n\u001b[0m\u001b[1;32m   1363\u001b[0m             \u001b[0msrc\u001b[0m\u001b[0;34m,\u001b[0m\u001b[0;34m\u001b[0m\u001b[0;34m\u001b[0m\u001b[0m\n\u001b[1;32m   1364\u001b[0m             \u001b[0;34m\"r\"\u001b[0m\u001b[0;34m,\u001b[0m\u001b[0;34m\u001b[0m\u001b[0;34m\u001b[0m\u001b[0m\n",
      "\u001b[0;32m~/.pyenv/versions/3.8.6/envs/MRIsegmentation/lib/python3.8/site-packages/pandas/io/common.py\u001b[0m in \u001b[0;36mget_handle\u001b[0;34m(path_or_buf, mode, encoding, compression, memory_map, is_text, errors, storage_options)\u001b[0m\n\u001b[1;32m    645\u001b[0m                 \u001b[0merrors\u001b[0m \u001b[0;34m=\u001b[0m \u001b[0;34m\"replace\"\u001b[0m\u001b[0;34m\u001b[0m\u001b[0;34m\u001b[0m\u001b[0m\n\u001b[1;32m    646\u001b[0m             \u001b[0;31m# Encoding\u001b[0m\u001b[0;34m\u001b[0m\u001b[0;34m\u001b[0m\u001b[0;34m\u001b[0m\u001b[0m\n\u001b[0;32m--> 647\u001b[0;31m             handle = open(\n\u001b[0m\u001b[1;32m    648\u001b[0m                 \u001b[0mhandle\u001b[0m\u001b[0;34m,\u001b[0m\u001b[0;34m\u001b[0m\u001b[0;34m\u001b[0m\u001b[0m\n\u001b[1;32m    649\u001b[0m                 \u001b[0mioargs\u001b[0m\u001b[0;34m.\u001b[0m\u001b[0mmode\u001b[0m\u001b[0;34m,\u001b[0m\u001b[0;34m\u001b[0m\u001b[0;34m\u001b[0m\u001b[0m\n",
      "\u001b[0;31mFileNotFoundError\u001b[0m: [Errno 2] No such file or directory: '/content/drive/MyDrive/MRIsegmentation//kaggle_3m/brain_df.csv'"
     ]
    },
    {
     "name": "stdout",
     "output_type": "stream",
     "text": [
      "time: 38.8 ms (started: 2021-07-06 16:12:18 +02:00)\n"
     ]
    }
   ],
   "source": [
    "from MRIsegmentation.data import get_data_from_drive, holdout\n",
    "\n",
    "df = pd.read_csv(DATA_PATH + 'brain_df.csv')\n",
    "df"
   ]
  },
  {
   "cell_type": "code",
   "execution_count": 123,
   "id": "71e669b0-f036-449f-91e2-3fdf259eccf6",
   "metadata": {},
   "outputs": [
    {
     "name": "stdout",
     "output_type": "stream",
     "text": [
      "time: 1.81 ms (started: 2021-07-06 15:58:14 +02:00)\n"
     ]
    }
   ],
   "source": [
    "def holdout(df, train_ratio=0.8, test_to_val_ratio=0.5, include_all=False):\n",
    "\n",
    "    img_paths = df[\"image_path\"].values\n",
    "    msk_paths = df[\"mask_path\"].values\n",
    "\n",
    "    df_mask = df.copy()\n",
    "    if include_all == False:\n",
    "        df_mask = df[df[\"mask\"] == 1]\n",
    "\n",
    "    df_train, df_val = train_test_split(df_mask, train_size=train_ratio)\n",
    "    df_test, df_val = train_test_split(df_val, test_size=test_to_val_ratio)\n",
    "\n",
    "    ds_train = tf.data.Dataset.from_tensor_slices(\n",
    "        (df_train[\"image_path\"].values, df_train[\"mask_path\"].values)\n",
    "    )\n",
    "    ds_val = tf.data.Dataset.from_tensor_slices(\n",
    "        (df_val[\"image_path\"].values, df_val[\"mask_path\"].values)\n",
    "    )\n",
    "    ds_test = tf.data.Dataset.from_tensor_slices(\n",
    "        (df_test[\"image_path\"].values, df_test[\"mask_path\"].values)\n",
    "    )\n",
    "\n",
    "    return ds_train, ds_val, ds_test"
   ]
  },
  {
   "cell_type": "code",
   "execution_count": 124,
   "id": "31121da0-8f12-4bcd-aaff-557343905df1",
   "metadata": {},
   "outputs": [
    {
     "name": "stdout",
     "output_type": "stream",
     "text": [
      "time: 327 ms (started: 2021-07-06 15:58:41 +02:00)\n"
     ]
    }
   ],
   "source": [
    "import tensorflow as tf\n",
    "from sklearn.model_selection import train_test_split\n",
    "\n",
    "# holdout\n",
    "ds_train, ds_val, ds_test = holdout(df, include_all=True)"
   ]
  },
  {
   "cell_type": "code",
   "execution_count": 128,
   "id": "1c67daa4-7071-45dd-bf23-fbf09129f626",
   "metadata": {},
   "outputs": [
    {
     "name": "stdout",
     "output_type": "stream",
     "text": [
      "<TensorSliceDataset shapes: ((), ()), types: (tf.string, tf.string)>\n",
      "<TensorSliceDataset shapes: ((), ()), types: (tf.string, tf.string)>\n",
      "<TensorSliceDataset shapes: ((), ()), types: (tf.string, tf.string)>\n",
      "time: 2.33 ms (started: 2021-07-06 16:00:55 +02:00)\n"
     ]
    }
   ],
   "source": [
    "print(ds_train)\n",
    "print(ds_val)\n",
    "print(ds_test)"
   ]
  },
  {
   "cell_type": "markdown",
   "id": "3b0dacf7-0ac7-415f-b2b0-98247fd31a7d",
   "metadata": {},
   "source": [
    "## Create Trainer"
   ]
  },
  {
   "cell_type": "code",
   "execution_count": 129,
   "id": "0a006da1-e1e6-4a0f-8709-ecb86ef118ac",
   "metadata": {},
   "outputs": [
    {
     "name": "stdout",
     "output_type": "stream",
     "text": [
      "time: 1.7 ms (started: 2021-07-06 16:02:05 +02:00)\n"
     ]
    }
   ],
   "source": [
    "import os\n",
    "os.environ[\"TC_CPP_MIN_LOG_LEVEL\"] = \"2\""
   ]
  },
  {
   "cell_type": "code",
   "execution_count": 130,
   "id": "4a18c0b0-8ec2-497d-9a5c-f0313c7c5cb9",
   "metadata": {},
   "outputs": [
    {
     "data": {
      "text/plain": [
       "<tf.Tensor: shape=(), dtype=float32, numpy=4.761905e-08>"
      ]
     },
     "execution_count": 130,
     "metadata": {},
     "output_type": "execute_result"
    },
    {
     "name": "stdout",
     "output_type": "stream",
     "text": [
      "time: 467 ms (started: 2021-07-06 16:02:30 +02:00)\n"
     ]
    }
   ],
   "source": [
    "import tensorflow as tf\n",
    "from MRIsegmentation.utils import tversky, tversky_loss, focal_tversky\n",
    "\n",
    "t_ones = tf.constant([1.0, 1.0, 1.0])\n",
    "t_null = tf.constant([0.0, 0.0, 0.0])\n",
    "\n",
    "tversky(t_ones, t_null)"
   ]
  },
  {
   "cell_type": "code",
   "execution_count": 131,
   "id": "685cc783-6966-4714-a78d-cbb9dd2ad7e7",
   "metadata": {},
   "outputs": [
    {
     "name": "stdout",
     "output_type": "stream",
     "text": [
      "dict_items([('vgg19', {'line_count': 1000, 'hyper_params': {'learning_rate': 0.075, 'batch_size': 16, 'epochs': 2}})])\n"
     ]
    },
    {
     "ename": "FileNotFoundError",
     "evalue": "[Errno 2] No such file or directory: '/content/drive/MyDrive/MRIsegmentation//kaggle_3m/brain_df.csv'",
     "output_type": "error",
     "traceback": [
      "\u001b[0;31m---------------------------------------------------------------------------\u001b[0m",
      "\u001b[0;31mFileNotFoundError\u001b[0m                         Traceback (most recent call last)",
      "\u001b[0;32m<ipython-input-131-dd8a6147e44d>\u001b[0m in \u001b[0;36m<module>\u001b[0;34m\u001b[0m\n\u001b[1;32m     20\u001b[0m \u001b[0;31m# Run a trainer\u001b[0m\u001b[0;34m\u001b[0m\u001b[0;34m\u001b[0m\u001b[0;34m\u001b[0m\u001b[0m\n\u001b[1;32m     21\u001b[0m \u001b[0mtrainer\u001b[0m \u001b[0;34m=\u001b[0m \u001b[0mTrainer\u001b[0m\u001b[0;34m(\u001b[0m\u001b[0;34m)\u001b[0m\u001b[0;34m\u001b[0m\u001b[0;34m\u001b[0m\u001b[0m\n\u001b[0;32m---> 22\u001b[0;31m \u001b[0mmlflow_uri\u001b[0m\u001b[0;34m,\u001b[0m \u001b[0mresult\u001b[0m \u001b[0;34m=\u001b[0m \u001b[0mtrainer\u001b[0m\u001b[0;34m.\u001b[0m\u001b[0mtrain\u001b[0m\u001b[0;34m(\u001b[0m\u001b[0mparams\u001b[0m\u001b[0;34m)\u001b[0m\u001b[0;34m\u001b[0m\u001b[0;34m\u001b[0m\u001b[0m\n\u001b[0m",
      "\u001b[0;32m~/.pyenv/versions/3.8.6/envs/MRIsegmentation/lib/python3.8/site-packages/MRIsegmentation/trainer.py\u001b[0m in \u001b[0;36mtrain\u001b[0;34m(self, params)\u001b[0m\n\u001b[1;32m     84\u001b[0m \u001b[0;34m\u001b[0m\u001b[0m\n\u001b[1;32m     85\u001b[0m             \u001b[0;31m# get data frm drive\u001b[0m\u001b[0;34m\u001b[0m\u001b[0;34m\u001b[0m\u001b[0;34m\u001b[0m\u001b[0m\n\u001b[0;32m---> 86\u001b[0;31m             \u001b[0mdf\u001b[0m \u001b[0;34m=\u001b[0m \u001b[0mget_data_from_drive\u001b[0m\u001b[0;34m(\u001b[0m\u001b[0;34m)\u001b[0m\u001b[0;34m\u001b[0m\u001b[0;34m\u001b[0m\u001b[0m\n\u001b[0m\u001b[1;32m     87\u001b[0m             \u001b[0mlogging\u001b[0m\u001b[0;34m.\u001b[0m\u001b[0minfo\u001b[0m\u001b[0;34m(\u001b[0m\u001b[0;34mf\"Data loaded: {df.shape}\"\u001b[0m\u001b[0;34m)\u001b[0m\u001b[0;34m\u001b[0m\u001b[0;34m\u001b[0m\u001b[0m\n\u001b[1;32m     88\u001b[0m \u001b[0;34m\u001b[0m\u001b[0m\n",
      "\u001b[0;32m~/.pyenv/versions/3.8.6/envs/MRIsegmentation/lib/python3.8/site-packages/MRIsegmentation/data.py\u001b[0m in \u001b[0;36mget_data_from_drive\u001b[0;34m()\u001b[0m\n\u001b[1;32m     28\u001b[0m \u001b[0;34m\u001b[0m\u001b[0m\n\u001b[1;32m     29\u001b[0m \u001b[0;32mdef\u001b[0m \u001b[0mget_data_from_drive\u001b[0m\u001b[0;34m(\u001b[0m\u001b[0;34m)\u001b[0m\u001b[0;34m:\u001b[0m\u001b[0;34m\u001b[0m\u001b[0;34m\u001b[0m\u001b[0m\n\u001b[0;32m---> 30\u001b[0;31m     \u001b[0;32mreturn\u001b[0m \u001b[0mpd\u001b[0m\u001b[0;34m.\u001b[0m\u001b[0mread_csv\u001b[0m\u001b[0;34m(\u001b[0m\u001b[0mGDRIVE_DATA_PATH\u001b[0m \u001b[0;34m+\u001b[0m \u001b[0;34m\"/kaggle_3m/brain_df.csv\"\u001b[0m\u001b[0;34m)\u001b[0m\u001b[0;34m\u001b[0m\u001b[0;34m\u001b[0m\u001b[0m\n\u001b[0m\u001b[1;32m     31\u001b[0m \u001b[0;34m\u001b[0m\u001b[0m\n\u001b[1;32m     32\u001b[0m \u001b[0;34m\u001b[0m\u001b[0m\n",
      "\u001b[0;32m~/.pyenv/versions/3.8.6/envs/MRIsegmentation/lib/python3.8/site-packages/pandas/io/parsers.py\u001b[0m in \u001b[0;36mread_csv\u001b[0;34m(filepath_or_buffer, sep, delimiter, header, names, index_col, usecols, squeeze, prefix, mangle_dupe_cols, dtype, engine, converters, true_values, false_values, skipinitialspace, skiprows, skipfooter, nrows, na_values, keep_default_na, na_filter, verbose, skip_blank_lines, parse_dates, infer_datetime_format, keep_date_col, date_parser, dayfirst, cache_dates, iterator, chunksize, compression, thousands, decimal, lineterminator, quotechar, quoting, doublequote, escapechar, comment, encoding, dialect, error_bad_lines, warn_bad_lines, delim_whitespace, low_memory, memory_map, float_precision, storage_options)\u001b[0m\n\u001b[1;32m    608\u001b[0m     \u001b[0mkwds\u001b[0m\u001b[0;34m.\u001b[0m\u001b[0mupdate\u001b[0m\u001b[0;34m(\u001b[0m\u001b[0mkwds_defaults\u001b[0m\u001b[0;34m)\u001b[0m\u001b[0;34m\u001b[0m\u001b[0;34m\u001b[0m\u001b[0m\n\u001b[1;32m    609\u001b[0m \u001b[0;34m\u001b[0m\u001b[0m\n\u001b[0;32m--> 610\u001b[0;31m     \u001b[0;32mreturn\u001b[0m \u001b[0m_read\u001b[0m\u001b[0;34m(\u001b[0m\u001b[0mfilepath_or_buffer\u001b[0m\u001b[0;34m,\u001b[0m \u001b[0mkwds\u001b[0m\u001b[0;34m)\u001b[0m\u001b[0;34m\u001b[0m\u001b[0;34m\u001b[0m\u001b[0m\n\u001b[0m\u001b[1;32m    611\u001b[0m \u001b[0;34m\u001b[0m\u001b[0m\n\u001b[1;32m    612\u001b[0m \u001b[0;34m\u001b[0m\u001b[0m\n",
      "\u001b[0;32m~/.pyenv/versions/3.8.6/envs/MRIsegmentation/lib/python3.8/site-packages/pandas/io/parsers.py\u001b[0m in \u001b[0;36m_read\u001b[0;34m(filepath_or_buffer, kwds)\u001b[0m\n\u001b[1;32m    460\u001b[0m \u001b[0;34m\u001b[0m\u001b[0m\n\u001b[1;32m    461\u001b[0m     \u001b[0;31m# Create the parser.\u001b[0m\u001b[0;34m\u001b[0m\u001b[0;34m\u001b[0m\u001b[0;34m\u001b[0m\u001b[0m\n\u001b[0;32m--> 462\u001b[0;31m     \u001b[0mparser\u001b[0m \u001b[0;34m=\u001b[0m \u001b[0mTextFileReader\u001b[0m\u001b[0;34m(\u001b[0m\u001b[0mfilepath_or_buffer\u001b[0m\u001b[0;34m,\u001b[0m \u001b[0;34m**\u001b[0m\u001b[0mkwds\u001b[0m\u001b[0;34m)\u001b[0m\u001b[0;34m\u001b[0m\u001b[0;34m\u001b[0m\u001b[0m\n\u001b[0m\u001b[1;32m    463\u001b[0m \u001b[0;34m\u001b[0m\u001b[0m\n\u001b[1;32m    464\u001b[0m     \u001b[0;32mif\u001b[0m \u001b[0mchunksize\u001b[0m \u001b[0;32mor\u001b[0m \u001b[0miterator\u001b[0m\u001b[0;34m:\u001b[0m\u001b[0;34m\u001b[0m\u001b[0;34m\u001b[0m\u001b[0m\n",
      "\u001b[0;32m~/.pyenv/versions/3.8.6/envs/MRIsegmentation/lib/python3.8/site-packages/pandas/io/parsers.py\u001b[0m in \u001b[0;36m__init__\u001b[0;34m(self, f, engine, **kwds)\u001b[0m\n\u001b[1;32m    817\u001b[0m             \u001b[0mself\u001b[0m\u001b[0;34m.\u001b[0m\u001b[0moptions\u001b[0m\u001b[0;34m[\u001b[0m\u001b[0;34m\"has_index_names\"\u001b[0m\u001b[0;34m]\u001b[0m \u001b[0;34m=\u001b[0m \u001b[0mkwds\u001b[0m\u001b[0;34m[\u001b[0m\u001b[0;34m\"has_index_names\"\u001b[0m\u001b[0;34m]\u001b[0m\u001b[0;34m\u001b[0m\u001b[0;34m\u001b[0m\u001b[0m\n\u001b[1;32m    818\u001b[0m \u001b[0;34m\u001b[0m\u001b[0m\n\u001b[0;32m--> 819\u001b[0;31m         \u001b[0mself\u001b[0m\u001b[0;34m.\u001b[0m\u001b[0m_engine\u001b[0m \u001b[0;34m=\u001b[0m \u001b[0mself\u001b[0m\u001b[0;34m.\u001b[0m\u001b[0m_make_engine\u001b[0m\u001b[0;34m(\u001b[0m\u001b[0mself\u001b[0m\u001b[0;34m.\u001b[0m\u001b[0mengine\u001b[0m\u001b[0;34m)\u001b[0m\u001b[0;34m\u001b[0m\u001b[0;34m\u001b[0m\u001b[0m\n\u001b[0m\u001b[1;32m    820\u001b[0m \u001b[0;34m\u001b[0m\u001b[0m\n\u001b[1;32m    821\u001b[0m     \u001b[0;32mdef\u001b[0m \u001b[0mclose\u001b[0m\u001b[0;34m(\u001b[0m\u001b[0mself\u001b[0m\u001b[0;34m)\u001b[0m\u001b[0;34m:\u001b[0m\u001b[0;34m\u001b[0m\u001b[0;34m\u001b[0m\u001b[0m\n",
      "\u001b[0;32m~/.pyenv/versions/3.8.6/envs/MRIsegmentation/lib/python3.8/site-packages/pandas/io/parsers.py\u001b[0m in \u001b[0;36m_make_engine\u001b[0;34m(self, engine)\u001b[0m\n\u001b[1;32m   1048\u001b[0m             )\n\u001b[1;32m   1049\u001b[0m         \u001b[0;31m# error: Too many arguments for \"ParserBase\"\u001b[0m\u001b[0;34m\u001b[0m\u001b[0;34m\u001b[0m\u001b[0;34m\u001b[0m\u001b[0m\n\u001b[0;32m-> 1050\u001b[0;31m         \u001b[0;32mreturn\u001b[0m \u001b[0mmapping\u001b[0m\u001b[0;34m[\u001b[0m\u001b[0mengine\u001b[0m\u001b[0;34m]\u001b[0m\u001b[0;34m(\u001b[0m\u001b[0mself\u001b[0m\u001b[0;34m.\u001b[0m\u001b[0mf\u001b[0m\u001b[0;34m,\u001b[0m \u001b[0;34m**\u001b[0m\u001b[0mself\u001b[0m\u001b[0;34m.\u001b[0m\u001b[0moptions\u001b[0m\u001b[0;34m)\u001b[0m  \u001b[0;31m# type: ignore[call-arg]\u001b[0m\u001b[0;34m\u001b[0m\u001b[0;34m\u001b[0m\u001b[0m\n\u001b[0m\u001b[1;32m   1051\u001b[0m \u001b[0;34m\u001b[0m\u001b[0m\n\u001b[1;32m   1052\u001b[0m     \u001b[0;32mdef\u001b[0m \u001b[0m_failover_to_python\u001b[0m\u001b[0;34m(\u001b[0m\u001b[0mself\u001b[0m\u001b[0;34m)\u001b[0m\u001b[0;34m:\u001b[0m\u001b[0;34m\u001b[0m\u001b[0;34m\u001b[0m\u001b[0m\n",
      "\u001b[0;32m~/.pyenv/versions/3.8.6/envs/MRIsegmentation/lib/python3.8/site-packages/pandas/io/parsers.py\u001b[0m in \u001b[0;36m__init__\u001b[0;34m(self, src, **kwds)\u001b[0m\n\u001b[1;32m   1865\u001b[0m \u001b[0;34m\u001b[0m\u001b[0m\n\u001b[1;32m   1866\u001b[0m         \u001b[0;31m# open handles\u001b[0m\u001b[0;34m\u001b[0m\u001b[0;34m\u001b[0m\u001b[0;34m\u001b[0m\u001b[0m\n\u001b[0;32m-> 1867\u001b[0;31m         \u001b[0mself\u001b[0m\u001b[0;34m.\u001b[0m\u001b[0m_open_handles\u001b[0m\u001b[0;34m(\u001b[0m\u001b[0msrc\u001b[0m\u001b[0;34m,\u001b[0m \u001b[0mkwds\u001b[0m\u001b[0;34m)\u001b[0m\u001b[0;34m\u001b[0m\u001b[0;34m\u001b[0m\u001b[0m\n\u001b[0m\u001b[1;32m   1868\u001b[0m         \u001b[0;32massert\u001b[0m \u001b[0mself\u001b[0m\u001b[0;34m.\u001b[0m\u001b[0mhandles\u001b[0m \u001b[0;32mis\u001b[0m \u001b[0;32mnot\u001b[0m \u001b[0;32mNone\u001b[0m\u001b[0;34m\u001b[0m\u001b[0;34m\u001b[0m\u001b[0m\n\u001b[1;32m   1869\u001b[0m         \u001b[0;32mfor\u001b[0m \u001b[0mkey\u001b[0m \u001b[0;32min\u001b[0m \u001b[0;34m(\u001b[0m\u001b[0;34m\"storage_options\"\u001b[0m\u001b[0;34m,\u001b[0m \u001b[0;34m\"encoding\"\u001b[0m\u001b[0;34m,\u001b[0m \u001b[0;34m\"memory_map\"\u001b[0m\u001b[0;34m,\u001b[0m \u001b[0;34m\"compression\"\u001b[0m\u001b[0;34m)\u001b[0m\u001b[0;34m:\u001b[0m\u001b[0;34m\u001b[0m\u001b[0;34m\u001b[0m\u001b[0m\n",
      "\u001b[0;32m~/.pyenv/versions/3.8.6/envs/MRIsegmentation/lib/python3.8/site-packages/pandas/io/parsers.py\u001b[0m in \u001b[0;36m_open_handles\u001b[0;34m(self, src, kwds)\u001b[0m\n\u001b[1;32m   1360\u001b[0m         \u001b[0mLet\u001b[0m \u001b[0mthe\u001b[0m \u001b[0mreaders\u001b[0m \u001b[0mopen\u001b[0m \u001b[0mIOHanldes\u001b[0m \u001b[0mafter\u001b[0m \u001b[0mthey\u001b[0m \u001b[0mare\u001b[0m \u001b[0mdone\u001b[0m \u001b[0;32mwith\u001b[0m \u001b[0mtheir\u001b[0m \u001b[0mpotential\u001b[0m \u001b[0mraises\u001b[0m\u001b[0;34m.\u001b[0m\u001b[0;34m\u001b[0m\u001b[0;34m\u001b[0m\u001b[0m\n\u001b[1;32m   1361\u001b[0m         \"\"\"\n\u001b[0;32m-> 1362\u001b[0;31m         self.handles = get_handle(\n\u001b[0m\u001b[1;32m   1363\u001b[0m             \u001b[0msrc\u001b[0m\u001b[0;34m,\u001b[0m\u001b[0;34m\u001b[0m\u001b[0;34m\u001b[0m\u001b[0m\n\u001b[1;32m   1364\u001b[0m             \u001b[0;34m\"r\"\u001b[0m\u001b[0;34m,\u001b[0m\u001b[0;34m\u001b[0m\u001b[0;34m\u001b[0m\u001b[0m\n",
      "\u001b[0;32m~/.pyenv/versions/3.8.6/envs/MRIsegmentation/lib/python3.8/site-packages/pandas/io/common.py\u001b[0m in \u001b[0;36mget_handle\u001b[0;34m(path_or_buf, mode, encoding, compression, memory_map, is_text, errors, storage_options)\u001b[0m\n\u001b[1;32m    645\u001b[0m                 \u001b[0merrors\u001b[0m \u001b[0;34m=\u001b[0m \u001b[0;34m\"replace\"\u001b[0m\u001b[0;34m\u001b[0m\u001b[0;34m\u001b[0m\u001b[0m\n\u001b[1;32m    646\u001b[0m             \u001b[0;31m# Encoding\u001b[0m\u001b[0;34m\u001b[0m\u001b[0;34m\u001b[0m\u001b[0;34m\u001b[0m\u001b[0m\n\u001b[0;32m--> 647\u001b[0;31m             handle = open(\n\u001b[0m\u001b[1;32m    648\u001b[0m                 \u001b[0mhandle\u001b[0m\u001b[0;34m,\u001b[0m\u001b[0;34m\u001b[0m\u001b[0;34m\u001b[0m\u001b[0m\n\u001b[1;32m    649\u001b[0m                 \u001b[0mioargs\u001b[0m\u001b[0;34m.\u001b[0m\u001b[0mmode\u001b[0m\u001b[0;34m,\u001b[0m\u001b[0;34m\u001b[0m\u001b[0;34m\u001b[0m\u001b[0m\n",
      "\u001b[0;31mFileNotFoundError\u001b[0m: [Errno 2] No such file or directory: '/content/drive/MyDrive/MRIsegmentation//kaggle_3m/brain_df.csv'"
     ]
    },
    {
     "name": "stdout",
     "output_type": "stream",
     "text": [
      "time: 4.46 s (started: 2021-07-06 16:05:42 +02:00)\n"
     ]
    }
   ],
   "source": [
    "from MRIsegmentation.trainer import Trainer\n",
    "\n",
    "# Define parameters to be evaluated\n",
    "\n",
    "# hp_learning_rate = hp.Choice('learning_rate', values=[0.01, 0.05, 0.1])\n",
    "# hp_learning_rate = hp.Choice('batch_size', values=[16, 32, 64])\n",
    "\n",
    "\n",
    "LEARNING_RATE = 0.075\n",
    "BATCH_SIZE = 16\n",
    "EPOCHS = 2\n",
    "\n",
    "params = dict(vgg19=dict(line_count=1_000, \n",
    "                         hyper_params=dict(learning_rate=LEARNING_RATE,\n",
    "                                           batch_size=BATCH_SIZE,\n",
    "                                           epochs=EPOCHS)),)\n",
    "\n",
    "print(params.items())\n",
    "\n",
    "# Run a trainer\n",
    "trainer = Trainer()\n",
    "mlflow_uri, result = trainer.train(params)"
   ]
  },
  {
   "cell_type": "code",
   "execution_count": null,
   "id": "7eaf6613-bb23-4a2c-8ac1-b46b74b525f0",
   "metadata": {},
   "outputs": [],
   "source": []
  },
  {
   "cell_type": "code",
   "execution_count": null,
   "id": "42b317e8-236e-4aed-a868-769110c602a9",
   "metadata": {},
   "outputs": [],
   "source": []
  },
  {
   "cell_type": "code",
   "execution_count": null,
   "id": "799fa3c3-4cdc-4e1f-8e11-d19bfee52309",
   "metadata": {},
   "outputs": [],
   "source": []
  }
 ],
 "metadata": {
  "kernelspec": {
   "display_name": "Python 3",
   "language": "python",
   "name": "python3"
  },
  "language_info": {
   "codemirror_mode": {
    "name": "ipython",
    "version": 3
   },
   "file_extension": ".py",
   "mimetype": "text/x-python",
   "name": "python",
   "nbconvert_exporter": "python",
   "pygments_lexer": "ipython3",
   "version": "3.8.6"
  }
 },
 "nbformat": 4,
 "nbformat_minor": 5
}
